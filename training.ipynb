{
 "cells": [
  {
   "cell_type": "markdown",
   "metadata": {},
   "source": [
    "## Setup"
   ]
  },
  {
   "cell_type": "code",
   "execution_count": 1,
   "metadata": {},
   "outputs": [],
   "source": [
    "import os\n",
    "import datetime\n",
    "from pathlib import Path\n",
    "from joblib import dump, load\n",
    "\n",
    "import numpy as np\n",
    "import pandas as pd\n",
    "import plotly.graph_objects as go\n",
    "from plotly.subplots import make_subplots\n",
    "from sklearn import metrics\n",
    "from sklearn import tree\n",
    "from sklearn.preprocessing import LabelBinarizer\n",
    "from sklearn.model_selection import train_test_split, RandomizedSearchCV"
   ]
  },
  {
   "cell_type": "code",
   "execution_count": 2,
   "metadata": {},
   "outputs": [],
   "source": [
    "df1 = pd.read_pickle(\"data/doh_merged_2.pkl\")\n",
    "df2 = pd.read_pickle(\"data/AmazonRing/ring_merged.pkl\")\n",
    "df3 = pd.read_pickle(\"data/Reolink/reo_merged.pkl\")\n",
    "df4 = pd.read_pickle(\"data/Telekom/telekom_magenta_homebase2.pkl\")"
   ]
  },
  {
   "cell_type": "markdown",
   "metadata": {},
   "source": [
    "#### Over/Undersampling dataset"
   ]
  },
  {
   "cell_type": "code",
   "execution_count": 3,
   "metadata": {},
   "outputs": [],
   "source": [
    "# Shorten label names\n",
    "df1['label'] = \"NoLabel\"\n",
    "df2['label'] = \"Spotlight Cam\"\n",
    "df3['label'] = \"Argus PT\"\n",
    "df4['label'] = \"HomeBase2\""
   ]
  },
  {
   "cell_type": "code",
   "execution_count": 4,
   "metadata": {},
   "outputs": [
    {
     "name": "stdout",
     "output_type": "stream",
     "text": [
      "NoLabel 2759326\n",
      "Spotlight Cam 146591\n",
      "Argus PT 34049\n",
      "HomeBase2 3292\n"
     ]
    }
   ],
   "source": [
    "sampling_before = {}\n",
    "for df in [df1, df2, df3, df4]:\n",
    "  print(df.iloc[0]['label'], len(df))\n",
    "  sampling_before[df.iloc[0]['label']] = len(df)"
   ]
  },
  {
   "cell_type": "code",
   "execution_count": 5,
   "metadata": {},
   "outputs": [],
   "source": [
    "n = 34049 # Number of Reolink Argus PT rows\n",
    "\n",
    "df1 = df1.sample(n=n, replace=False)\n",
    "df2 = df2.sample(n=n, replace=False)\n",
    "df3 = df3.sample(n=n, replace=False)\n",
    "df4 = df4.sample(n=n, replace=True)\n"
   ]
  },
  {
   "cell_type": "code",
   "execution_count": 6,
   "metadata": {},
   "outputs": [
    {
     "name": "stdout",
     "output_type": "stream",
     "text": [
      "NoLabel 34049\n",
      "Spotlight Cam 34049\n",
      "Argus PT 34049\n",
      "HomeBase2 34049\n"
     ]
    }
   ],
   "source": [
    "sampling_after = {}\n",
    "for df in [df1, df2, df3, df4]:\n",
    "  print(df.iloc[0]['label'], len(df))\n",
    "  sampling_after[df.iloc[0]['label']] = len(df)"
   ]
  },
  {
   "cell_type": "code",
   "execution_count": 7,
   "metadata": {},
   "outputs": [
    {
     "data": {
      "application/vnd.plotly.v1+json": {
       "config": {
        "plotlyServerURL": "https://plot.ly"
       },
       "data": [
        {
         "name": "Before Under-/Over-sampling",
         "text": [
          "2759326",
          "146591",
          "34049",
          "3292"
         ],
         "type": "bar",
         "x": [
          "NoLabel",
          "Spotlight Cam",
          "Argus PT",
          "HomeBase2"
         ],
         "xaxis": "x",
         "y": [
          2759326,
          146591,
          34049,
          3292
         ],
         "yaxis": "y"
        },
        {
         "name": "After Under-/Over-sampling",
         "text": [
          "34049",
          "34049",
          "34049",
          "34049"
         ],
         "type": "bar",
         "x": [
          "NoLabel",
          "Spotlight Cam",
          "Argus PT",
          "HomeBase2"
         ],
         "xaxis": "x2",
         "y": [
          34049,
          34049,
          34049,
          34049
         ],
         "yaxis": "y2"
        }
       ],
       "layout": {
        "height": 300,
        "legend": {
         "orientation": "h",
         "x": 0,
         "xanchor": "left",
         "y": 1.02,
         "yanchor": "bottom"
        },
        "margin": {
         "b": 10,
         "t": 10
        },
        "template": {
         "data": {
          "bar": [
           {
            "error_x": {
             "color": "#2a3f5f"
            },
            "error_y": {
             "color": "#2a3f5f"
            },
            "marker": {
             "line": {
              "color": "#E5ECF6",
              "width": 0.5
             },
             "pattern": {
              "fillmode": "overlay",
              "size": 10,
              "solidity": 0.2
             }
            },
            "type": "bar"
           }
          ],
          "barpolar": [
           {
            "marker": {
             "line": {
              "color": "#E5ECF6",
              "width": 0.5
             },
             "pattern": {
              "fillmode": "overlay",
              "size": 10,
              "solidity": 0.2
             }
            },
            "type": "barpolar"
           }
          ],
          "carpet": [
           {
            "aaxis": {
             "endlinecolor": "#2a3f5f",
             "gridcolor": "white",
             "linecolor": "white",
             "minorgridcolor": "white",
             "startlinecolor": "#2a3f5f"
            },
            "baxis": {
             "endlinecolor": "#2a3f5f",
             "gridcolor": "white",
             "linecolor": "white",
             "minorgridcolor": "white",
             "startlinecolor": "#2a3f5f"
            },
            "type": "carpet"
           }
          ],
          "choropleth": [
           {
            "colorbar": {
             "outlinewidth": 0,
             "ticks": ""
            },
            "type": "choropleth"
           }
          ],
          "contour": [
           {
            "colorbar": {
             "outlinewidth": 0,
             "ticks": ""
            },
            "colorscale": [
             [
              0,
              "#0d0887"
             ],
             [
              0.1111111111111111,
              "#46039f"
             ],
             [
              0.2222222222222222,
              "#7201a8"
             ],
             [
              0.3333333333333333,
              "#9c179e"
             ],
             [
              0.4444444444444444,
              "#bd3786"
             ],
             [
              0.5555555555555556,
              "#d8576b"
             ],
             [
              0.6666666666666666,
              "#ed7953"
             ],
             [
              0.7777777777777778,
              "#fb9f3a"
             ],
             [
              0.8888888888888888,
              "#fdca26"
             ],
             [
              1,
              "#f0f921"
             ]
            ],
            "type": "contour"
           }
          ],
          "contourcarpet": [
           {
            "colorbar": {
             "outlinewidth": 0,
             "ticks": ""
            },
            "type": "contourcarpet"
           }
          ],
          "heatmap": [
           {
            "colorbar": {
             "outlinewidth": 0,
             "ticks": ""
            },
            "colorscale": [
             [
              0,
              "#0d0887"
             ],
             [
              0.1111111111111111,
              "#46039f"
             ],
             [
              0.2222222222222222,
              "#7201a8"
             ],
             [
              0.3333333333333333,
              "#9c179e"
             ],
             [
              0.4444444444444444,
              "#bd3786"
             ],
             [
              0.5555555555555556,
              "#d8576b"
             ],
             [
              0.6666666666666666,
              "#ed7953"
             ],
             [
              0.7777777777777778,
              "#fb9f3a"
             ],
             [
              0.8888888888888888,
              "#fdca26"
             ],
             [
              1,
              "#f0f921"
             ]
            ],
            "type": "heatmap"
           }
          ],
          "heatmapgl": [
           {
            "colorbar": {
             "outlinewidth": 0,
             "ticks": ""
            },
            "colorscale": [
             [
              0,
              "#0d0887"
             ],
             [
              0.1111111111111111,
              "#46039f"
             ],
             [
              0.2222222222222222,
              "#7201a8"
             ],
             [
              0.3333333333333333,
              "#9c179e"
             ],
             [
              0.4444444444444444,
              "#bd3786"
             ],
             [
              0.5555555555555556,
              "#d8576b"
             ],
             [
              0.6666666666666666,
              "#ed7953"
             ],
             [
              0.7777777777777778,
              "#fb9f3a"
             ],
             [
              0.8888888888888888,
              "#fdca26"
             ],
             [
              1,
              "#f0f921"
             ]
            ],
            "type": "heatmapgl"
           }
          ],
          "histogram": [
           {
            "marker": {
             "pattern": {
              "fillmode": "overlay",
              "size": 10,
              "solidity": 0.2
             }
            },
            "type": "histogram"
           }
          ],
          "histogram2d": [
           {
            "colorbar": {
             "outlinewidth": 0,
             "ticks": ""
            },
            "colorscale": [
             [
              0,
              "#0d0887"
             ],
             [
              0.1111111111111111,
              "#46039f"
             ],
             [
              0.2222222222222222,
              "#7201a8"
             ],
             [
              0.3333333333333333,
              "#9c179e"
             ],
             [
              0.4444444444444444,
              "#bd3786"
             ],
             [
              0.5555555555555556,
              "#d8576b"
             ],
             [
              0.6666666666666666,
              "#ed7953"
             ],
             [
              0.7777777777777778,
              "#fb9f3a"
             ],
             [
              0.8888888888888888,
              "#fdca26"
             ],
             [
              1,
              "#f0f921"
             ]
            ],
            "type": "histogram2d"
           }
          ],
          "histogram2dcontour": [
           {
            "colorbar": {
             "outlinewidth": 0,
             "ticks": ""
            },
            "colorscale": [
             [
              0,
              "#0d0887"
             ],
             [
              0.1111111111111111,
              "#46039f"
             ],
             [
              0.2222222222222222,
              "#7201a8"
             ],
             [
              0.3333333333333333,
              "#9c179e"
             ],
             [
              0.4444444444444444,
              "#bd3786"
             ],
             [
              0.5555555555555556,
              "#d8576b"
             ],
             [
              0.6666666666666666,
              "#ed7953"
             ],
             [
              0.7777777777777778,
              "#fb9f3a"
             ],
             [
              0.8888888888888888,
              "#fdca26"
             ],
             [
              1,
              "#f0f921"
             ]
            ],
            "type": "histogram2dcontour"
           }
          ],
          "mesh3d": [
           {
            "colorbar": {
             "outlinewidth": 0,
             "ticks": ""
            },
            "type": "mesh3d"
           }
          ],
          "parcoords": [
           {
            "line": {
             "colorbar": {
              "outlinewidth": 0,
              "ticks": ""
             }
            },
            "type": "parcoords"
           }
          ],
          "pie": [
           {
            "automargin": true,
            "type": "pie"
           }
          ],
          "scatter": [
           {
            "marker": {
             "colorbar": {
              "outlinewidth": 0,
              "ticks": ""
             }
            },
            "type": "scatter"
           }
          ],
          "scatter3d": [
           {
            "line": {
             "colorbar": {
              "outlinewidth": 0,
              "ticks": ""
             }
            },
            "marker": {
             "colorbar": {
              "outlinewidth": 0,
              "ticks": ""
             }
            },
            "type": "scatter3d"
           }
          ],
          "scattercarpet": [
           {
            "marker": {
             "colorbar": {
              "outlinewidth": 0,
              "ticks": ""
             }
            },
            "type": "scattercarpet"
           }
          ],
          "scattergeo": [
           {
            "marker": {
             "colorbar": {
              "outlinewidth": 0,
              "ticks": ""
             }
            },
            "type": "scattergeo"
           }
          ],
          "scattergl": [
           {
            "marker": {
             "colorbar": {
              "outlinewidth": 0,
              "ticks": ""
             }
            },
            "type": "scattergl"
           }
          ],
          "scattermapbox": [
           {
            "marker": {
             "colorbar": {
              "outlinewidth": 0,
              "ticks": ""
             }
            },
            "type": "scattermapbox"
           }
          ],
          "scatterpolar": [
           {
            "marker": {
             "colorbar": {
              "outlinewidth": 0,
              "ticks": ""
             }
            },
            "type": "scatterpolar"
           }
          ],
          "scatterpolargl": [
           {
            "marker": {
             "colorbar": {
              "outlinewidth": 0,
              "ticks": ""
             }
            },
            "type": "scatterpolargl"
           }
          ],
          "scatterternary": [
           {
            "marker": {
             "colorbar": {
              "outlinewidth": 0,
              "ticks": ""
             }
            },
            "type": "scatterternary"
           }
          ],
          "surface": [
           {
            "colorbar": {
             "outlinewidth": 0,
             "ticks": ""
            },
            "colorscale": [
             [
              0,
              "#0d0887"
             ],
             [
              0.1111111111111111,
              "#46039f"
             ],
             [
              0.2222222222222222,
              "#7201a8"
             ],
             [
              0.3333333333333333,
              "#9c179e"
             ],
             [
              0.4444444444444444,
              "#bd3786"
             ],
             [
              0.5555555555555556,
              "#d8576b"
             ],
             [
              0.6666666666666666,
              "#ed7953"
             ],
             [
              0.7777777777777778,
              "#fb9f3a"
             ],
             [
              0.8888888888888888,
              "#fdca26"
             ],
             [
              1,
              "#f0f921"
             ]
            ],
            "type": "surface"
           }
          ],
          "table": [
           {
            "cells": {
             "fill": {
              "color": "#EBF0F8"
             },
             "line": {
              "color": "white"
             }
            },
            "header": {
             "fill": {
              "color": "#C8D4E3"
             },
             "line": {
              "color": "white"
             }
            },
            "type": "table"
           }
          ]
         },
         "layout": {
          "annotationdefaults": {
           "arrowcolor": "#2a3f5f",
           "arrowhead": 0,
           "arrowwidth": 1
          },
          "autotypenumbers": "strict",
          "coloraxis": {
           "colorbar": {
            "outlinewidth": 0,
            "ticks": ""
           }
          },
          "colorscale": {
           "diverging": [
            [
             0,
             "#8e0152"
            ],
            [
             0.1,
             "#c51b7d"
            ],
            [
             0.2,
             "#de77ae"
            ],
            [
             0.3,
             "#f1b6da"
            ],
            [
             0.4,
             "#fde0ef"
            ],
            [
             0.5,
             "#f7f7f7"
            ],
            [
             0.6,
             "#e6f5d0"
            ],
            [
             0.7,
             "#b8e186"
            ],
            [
             0.8,
             "#7fbc41"
            ],
            [
             0.9,
             "#4d9221"
            ],
            [
             1,
             "#276419"
            ]
           ],
           "sequential": [
            [
             0,
             "#0d0887"
            ],
            [
             0.1111111111111111,
             "#46039f"
            ],
            [
             0.2222222222222222,
             "#7201a8"
            ],
            [
             0.3333333333333333,
             "#9c179e"
            ],
            [
             0.4444444444444444,
             "#bd3786"
            ],
            [
             0.5555555555555556,
             "#d8576b"
            ],
            [
             0.6666666666666666,
             "#ed7953"
            ],
            [
             0.7777777777777778,
             "#fb9f3a"
            ],
            [
             0.8888888888888888,
             "#fdca26"
            ],
            [
             1,
             "#f0f921"
            ]
           ],
           "sequentialminus": [
            [
             0,
             "#0d0887"
            ],
            [
             0.1111111111111111,
             "#46039f"
            ],
            [
             0.2222222222222222,
             "#7201a8"
            ],
            [
             0.3333333333333333,
             "#9c179e"
            ],
            [
             0.4444444444444444,
             "#bd3786"
            ],
            [
             0.5555555555555556,
             "#d8576b"
            ],
            [
             0.6666666666666666,
             "#ed7953"
            ],
            [
             0.7777777777777778,
             "#fb9f3a"
            ],
            [
             0.8888888888888888,
             "#fdca26"
            ],
            [
             1,
             "#f0f921"
            ]
           ]
          },
          "colorway": [
           "#636efa",
           "#EF553B",
           "#00cc96",
           "#ab63fa",
           "#FFA15A",
           "#19d3f3",
           "#FF6692",
           "#B6E880",
           "#FF97FF",
           "#FECB52"
          ],
          "font": {
           "color": "#2a3f5f"
          },
          "geo": {
           "bgcolor": "white",
           "lakecolor": "white",
           "landcolor": "#E5ECF6",
           "showlakes": true,
           "showland": true,
           "subunitcolor": "white"
          },
          "hoverlabel": {
           "align": "left"
          },
          "hovermode": "closest",
          "mapbox": {
           "style": "light"
          },
          "paper_bgcolor": "white",
          "plot_bgcolor": "#E5ECF6",
          "polar": {
           "angularaxis": {
            "gridcolor": "white",
            "linecolor": "white",
            "ticks": ""
           },
           "bgcolor": "#E5ECF6",
           "radialaxis": {
            "gridcolor": "white",
            "linecolor": "white",
            "ticks": ""
           }
          },
          "scene": {
           "xaxis": {
            "backgroundcolor": "#E5ECF6",
            "gridcolor": "white",
            "gridwidth": 2,
            "linecolor": "white",
            "showbackground": true,
            "ticks": "",
            "zerolinecolor": "white"
           },
           "yaxis": {
            "backgroundcolor": "#E5ECF6",
            "gridcolor": "white",
            "gridwidth": 2,
            "linecolor": "white",
            "showbackground": true,
            "ticks": "",
            "zerolinecolor": "white"
           },
           "zaxis": {
            "backgroundcolor": "#E5ECF6",
            "gridcolor": "white",
            "gridwidth": 2,
            "linecolor": "white",
            "showbackground": true,
            "ticks": "",
            "zerolinecolor": "white"
           }
          },
          "shapedefaults": {
           "line": {
            "color": "#2a3f5f"
           }
          },
          "ternary": {
           "aaxis": {
            "gridcolor": "white",
            "linecolor": "white",
            "ticks": ""
           },
           "baxis": {
            "gridcolor": "white",
            "linecolor": "white",
            "ticks": ""
           },
           "bgcolor": "#E5ECF6",
           "caxis": {
            "gridcolor": "white",
            "linecolor": "white",
            "ticks": ""
           }
          },
          "title": {
           "x": 0.05
          },
          "xaxis": {
           "automargin": true,
           "gridcolor": "white",
           "linecolor": "white",
           "ticks": "",
           "title": {
            "standoff": 15
           },
           "zerolinecolor": "white",
           "zerolinewidth": 2
          },
          "yaxis": {
           "automargin": true,
           "gridcolor": "white",
           "linecolor": "white",
           "ticks": "",
           "title": {
            "standoff": 15
           },
           "zerolinecolor": "white",
           "zerolinewidth": 2
          }
         }
        },
        "width": 900,
        "xaxis": {
         "anchor": "y",
         "domain": [
          0,
          0.45
         ]
        },
        "xaxis2": {
         "anchor": "y2",
         "domain": [
          0.55,
          1
         ]
        },
        "yaxis": {
         "anchor": "x",
         "domain": [
          0,
          1
         ],
         "title": {
          "text": "Number of packets"
         },
         "type": "log"
        },
        "yaxis2": {
         "anchor": "x2",
         "domain": [
          0,
          1
         ],
         "matches": "y",
         "showticklabels": false,
         "type": "log"
        }
       }
      }
     },
     "metadata": {},
     "output_type": "display_data"
    }
   ],
   "source": [
    "fig = make_subplots(rows=1, cols=2, shared_yaxes=True)\n",
    "\n",
    "trace1 = fig.add_trace(\n",
    "    go.Bar(\n",
    "      x=list(sampling_before.keys()),\n",
    "      y=list(sampling_before.values()),\n",
    "      name=\"Before Under-/Over-sampling\",\n",
    "      text=list(sampling_before.values())\n",
    "      ),\n",
    "    row=1, col=1\n",
    ")\n",
    "\n",
    "trace2 = fig.add_trace(\n",
    "    go.Bar(x=list(sampling_after.keys()), y=list(sampling_after.values()), name=\"After Under-/Over-sampling\",text=list(sampling_after.values())),\n",
    "    row=1, col=2\n",
    ")\n",
    "\n",
    "fig.update_yaxes(type=\"log\")\n",
    "fig.update_layout(\n",
    "  height=300, \n",
    "  width=900, \n",
    "  yaxis_title=\"Number of packets\",\n",
    "  )\n",
    "fig.update_layout(\n",
    "  legend=dict(\n",
    "    orientation=\"h\",\n",
    "    yanchor=\"bottom\",\n",
    "    y=1.02,\n",
    "    xanchor=\"left\",\n",
    "    x=0\n",
    "    )\n",
    "  )\n",
    "fig.update_layout(margin=dict(t=10, b=10))\n",
    "fig.show()\n",
    "fig.write_image(\"assets/sampling.pdf\")"
   ]
  },
  {
   "cell_type": "code",
   "execution_count": 8,
   "metadata": {},
   "outputs": [],
   "source": [
    "df = pd.concat([df1, df2, df3, df4], ignore_index=True)"
   ]
  },
  {
   "cell_type": "code",
   "execution_count": 9,
   "metadata": {},
   "outputs": [
    {
     "data": {
      "text/plain": [
       "Index(['time', 'payload', 'IP_version', 'IP_ihl', 'IP_tos', 'IP_len', 'IP_id',\n",
       "       'IP_flags', 'IP_frag', 'IP_ttl', 'IP_proto', 'IP_chksum', 'IP_src',\n",
       "       'IP_dst', 'TCP_sport', 'TCP_dport', 'TCP_seq', 'TCP_ack', 'TCP_dataofs',\n",
       "       'TCP_reserved', 'TCP_flags', 'TCP_window', 'TCP_chksum', 'TCP_urgptr',\n",
       "       'UDP_sport', 'UDP_dport', 'UDP_len', 'UDP_chksum', 'Raw_load',\n",
       "       'IP_int_arr_time', 'IP_Burst_ix', 'IP_Burst_length',\n",
       "       'IP_Burst_avg_size', 'label'],\n",
       "      dtype='object')"
      ]
     },
     "execution_count": 9,
     "metadata": {},
     "output_type": "execute_result"
    }
   ],
   "source": [
    "df.columns"
   ]
  },
  {
   "cell_type": "code",
   "execution_count": 10,
   "metadata": {},
   "outputs": [],
   "source": [
    "df['IP_version'] = df['IP_version'].astype(\"string\")\n",
    "df['label'] = df['label'].astype(\"string\")\n",
    "na_values = {\n",
    "  # \"time\": 0,\n",
    "  \"payload\": \"NoPayload\",\n",
    "  \"IP_version\": \"0\",\n",
    "  \"IP_ihl\": 0,\n",
    "  \"IP_tos\": 0,\n",
    "  \"IP_len\": 0,\n",
    "  \"IP_id\": 0,\n",
    "  \"IP_flags\": 0,\n",
    "  \"IP_frag\": 0,\n",
    "  \"IP_ttl\": 0,\n",
    "  \"IP_proto\": 0,\n",
    "  \"IP_chksum\": 0,\n",
    "  \"IP_src\": \"0\",\n",
    "  \"IP_dst\": \"0\",\n",
    "  \"TCP_sport\": \"0\",\n",
    "  \"TCP_dport\": \"0\",\n",
    "  \"TCP_seq\": 0,\n",
    "  \"TCP_ack\": 0,\n",
    "  \"TCP_dataofs\": 0,\n",
    "  \"TCP_reserved\": 0,\n",
    "  \"TCP_flags\": 0,\n",
    "  \"TCP_window\": 0,\n",
    "  \"TCP_chksum\": 0,\n",
    "  \"TCP_urgptr\": 0,\n",
    "  \"UDP_sport\": \"0\",\n",
    "  \"UDP_dport\": \"0\",\n",
    "  \"UDP_len\": 0,\n",
    "  \"UDP_chksum\": 0,\n",
    "  \"Raw_load\": 0,\n",
    "  'IP_int_arr_time': datetime.timedelta(seconds=0), \n",
    "  'IP_Burst_ix': 0, \n",
    "  'IP_Burst_length': 0,\n",
    "  'IP_Burst_avg_size': 0,\n",
    "  \"label\": \"NoLabel\",\n",
    "}\n",
    "\n",
    "df.fillna(value=na_values, inplace=True)"
   ]
  },
  {
   "cell_type": "code",
   "execution_count": 11,
   "metadata": {},
   "outputs": [
    {
     "name": "stdout",
     "output_type": "stream",
     "text": [
      "time NA 0 out of 136196\n",
      "payload NA 0 out of 136196\n",
      "IP_version NA 0 out of 136196\n",
      "IP_ihl NA 0 out of 136196\n",
      "IP_tos NA 0 out of 136196\n",
      "IP_len NA 0 out of 136196\n",
      "IP_id NA 0 out of 136196\n",
      "IP_flags NA 0 out of 136196\n",
      "IP_frag NA 0 out of 136196\n",
      "IP_ttl NA 0 out of 136196\n",
      "IP_proto NA 0 out of 136196\n",
      "IP_chksum NA 0 out of 136196\n",
      "IP_src NA 0 out of 136196\n",
      "IP_dst NA 0 out of 136196\n",
      "TCP_sport NA 0 out of 136196\n",
      "TCP_dport NA 0 out of 136196\n",
      "TCP_seq NA 0 out of 136196\n",
      "TCP_ack NA 0 out of 136196\n",
      "TCP_dataofs NA 0 out of 136196\n",
      "TCP_reserved NA 0 out of 136196\n",
      "TCP_flags NA 0 out of 136196\n",
      "TCP_window NA 0 out of 136196\n",
      "TCP_chksum NA 0 out of 136196\n",
      "TCP_urgptr NA 0 out of 136196\n",
      "UDP_sport NA 0 out of 136196\n",
      "UDP_dport NA 0 out of 136196\n",
      "UDP_len NA 0 out of 136196\n",
      "UDP_chksum NA 0 out of 136196\n",
      "Raw_load NA 0 out of 136196\n",
      "IP_int_arr_time NA 0 out of 136196\n",
      "IP_Burst_ix NA 0 out of 136196\n",
      "IP_Burst_length NA 0 out of 136196\n",
      "IP_Burst_avg_size NA 0 out of 136196\n",
      "label NA 0 out of 136196\n"
     ]
    }
   ],
   "source": [
    "for col in df.columns:\n",
    "  print(col, \"NA\", sum(df[col].isna()), \"out of\", len(df[col]))"
   ]
  },
  {
   "cell_type": "code",
   "execution_count": 12,
   "metadata": {},
   "outputs": [
    {
     "data": {
      "text/html": [
       "<div>\n",
       "<style scoped>\n",
       "    .dataframe tbody tr th:only-of-type {\n",
       "        vertical-align: middle;\n",
       "    }\n",
       "\n",
       "    .dataframe tbody tr th {\n",
       "        vertical-align: top;\n",
       "    }\n",
       "\n",
       "    .dataframe thead th {\n",
       "        text-align: right;\n",
       "    }\n",
       "</style>\n",
       "<table border=\"1\" class=\"dataframe\">\n",
       "  <thead>\n",
       "    <tr style=\"text-align: right;\">\n",
       "      <th></th>\n",
       "      <th>time</th>\n",
       "      <th>payload</th>\n",
       "      <th>IP_version</th>\n",
       "      <th>IP_ihl</th>\n",
       "      <th>IP_tos</th>\n",
       "      <th>IP_len</th>\n",
       "      <th>IP_id</th>\n",
       "      <th>IP_flags</th>\n",
       "      <th>IP_frag</th>\n",
       "      <th>IP_ttl</th>\n",
       "      <th>...</th>\n",
       "      <th>UDP_sport</th>\n",
       "      <th>UDP_dport</th>\n",
       "      <th>UDP_len</th>\n",
       "      <th>UDP_chksum</th>\n",
       "      <th>Raw_load</th>\n",
       "      <th>IP_int_arr_time</th>\n",
       "      <th>IP_Burst_ix</th>\n",
       "      <th>IP_Burst_length</th>\n",
       "      <th>IP_Burst_avg_size</th>\n",
       "      <th>label</th>\n",
       "    </tr>\n",
       "  </thead>\n",
       "  <tbody>\n",
       "    <tr>\n",
       "      <th>50801</th>\n",
       "      <td>2021-09-15 06:49:03.544214016</td>\n",
       "      <td>Raw</td>\n",
       "      <td>4</td>\n",
       "      <td>5</td>\n",
       "      <td>0</td>\n",
       "      <td>1236</td>\n",
       "      <td>62631</td>\n",
       "      <td>2</td>\n",
       "      <td>0</td>\n",
       "      <td>64</td>\n",
       "      <td>...</td>\n",
       "      <td>42084</td>\n",
       "      <td>47352</td>\n",
       "      <td>1216</td>\n",
       "      <td>57000</td>\n",
       "      <td>1208</td>\n",
       "      <td>0 days 00:00:00.002708992</td>\n",
       "      <td>731</td>\n",
       "      <td>41</td>\n",
       "      <td>1183.52</td>\n",
       "      <td>Spotlight Cam</td>\n",
       "    </tr>\n",
       "    <tr>\n",
       "      <th>7151</th>\n",
       "      <td>2021-09-28 17:36:37.921957120</td>\n",
       "      <td>Raw</td>\n",
       "      <td>4</td>\n",
       "      <td>5</td>\n",
       "      <td>0</td>\n",
       "      <td>1460</td>\n",
       "      <td>38514</td>\n",
       "      <td>2</td>\n",
       "      <td>0</td>\n",
       "      <td>62</td>\n",
       "      <td>...</td>\n",
       "      <td>0</td>\n",
       "      <td>0</td>\n",
       "      <td>0</td>\n",
       "      <td>0</td>\n",
       "      <td>1408</td>\n",
       "      <td>0 days 00:00:00.001255168</td>\n",
       "      <td>3411</td>\n",
       "      <td>8</td>\n",
       "      <td>1250.11</td>\n",
       "      <td>NoLabel</td>\n",
       "    </tr>\n",
       "    <tr>\n",
       "      <th>46576</th>\n",
       "      <td>2021-09-15 06:45:16.947501056</td>\n",
       "      <td>Raw</td>\n",
       "      <td>4</td>\n",
       "      <td>5</td>\n",
       "      <td>0</td>\n",
       "      <td>1228</td>\n",
       "      <td>31782</td>\n",
       "      <td>2</td>\n",
       "      <td>0</td>\n",
       "      <td>64</td>\n",
       "      <td>...</td>\n",
       "      <td>55384</td>\n",
       "      <td>6164</td>\n",
       "      <td>1208</td>\n",
       "      <td>25543</td>\n",
       "      <td>1200</td>\n",
       "      <td>0 days 00:00:00.000027904</td>\n",
       "      <td>1597</td>\n",
       "      <td>15624</td>\n",
       "      <td>1199.92</td>\n",
       "      <td>Spotlight Cam</td>\n",
       "    </tr>\n",
       "    <tr>\n",
       "      <th>83792</th>\n",
       "      <td>2021-09-05 09:35:40.253168128</td>\n",
       "      <td>Raw</td>\n",
       "      <td>4</td>\n",
       "      <td>5</td>\n",
       "      <td>0</td>\n",
       "      <td>56</td>\n",
       "      <td>47259</td>\n",
       "      <td>2</td>\n",
       "      <td>0</td>\n",
       "      <td>64</td>\n",
       "      <td>...</td>\n",
       "      <td>22815</td>\n",
       "      <td>43402</td>\n",
       "      <td>36</td>\n",
       "      <td>26613</td>\n",
       "      <td>28</td>\n",
       "      <td>0 days 00:00:00.021288192</td>\n",
       "      <td>0</td>\n",
       "      <td>0</td>\n",
       "      <td>0.0</td>\n",
       "      <td>Argus PT</td>\n",
       "    </tr>\n",
       "    <tr>\n",
       "      <th>23216</th>\n",
       "      <td>2021-09-28 12:12:14.240839936</td>\n",
       "      <td>Raw</td>\n",
       "      <td>4</td>\n",
       "      <td>5</td>\n",
       "      <td>0</td>\n",
       "      <td>1228</td>\n",
       "      <td>5127</td>\n",
       "      <td>2</td>\n",
       "      <td>0</td>\n",
       "      <td>62</td>\n",
       "      <td>...</td>\n",
       "      <td>39863</td>\n",
       "      <td>7042</td>\n",
       "      <td>1208</td>\n",
       "      <td>2837</td>\n",
       "      <td>1200</td>\n",
       "      <td>0 days 00:00:00.000139008</td>\n",
       "      <td>5395</td>\n",
       "      <td>15624</td>\n",
       "      <td>1199.92</td>\n",
       "      <td>NoLabel</td>\n",
       "    </tr>\n",
       "    <tr>\n",
       "      <th>81975</th>\n",
       "      <td>2021-09-05 09:28:43.126972928</td>\n",
       "      <td>Raw</td>\n",
       "      <td>4</td>\n",
       "      <td>5</td>\n",
       "      <td>0</td>\n",
       "      <td>1492</td>\n",
       "      <td>64152</td>\n",
       "      <td>2</td>\n",
       "      <td>0</td>\n",
       "      <td>59</td>\n",
       "      <td>...</td>\n",
       "      <td>0</td>\n",
       "      <td>0</td>\n",
       "      <td>0</td>\n",
       "      <td>0</td>\n",
       "      <td>1452</td>\n",
       "      <td>0 days 00:00:00.000208896</td>\n",
       "      <td>176</td>\n",
       "      <td>48</td>\n",
       "      <td>1366.73</td>\n",
       "      <td>Argus PT</td>\n",
       "    </tr>\n",
       "    <tr>\n",
       "      <th>88724</th>\n",
       "      <td>2021-09-05 09:34:51.154299136</td>\n",
       "      <td>Raw</td>\n",
       "      <td>4</td>\n",
       "      <td>5</td>\n",
       "      <td>0</td>\n",
       "      <td>56</td>\n",
       "      <td>28562</td>\n",
       "      <td>0</td>\n",
       "      <td>0</td>\n",
       "      <td>128</td>\n",
       "      <td>...</td>\n",
       "      <td>43402</td>\n",
       "      <td>22814</td>\n",
       "      <td>36</td>\n",
       "      <td>2729</td>\n",
       "      <td>28</td>\n",
       "      <td>0 days 00:00:00.022001152</td>\n",
       "      <td>0</td>\n",
       "      <td>0</td>\n",
       "      <td>0.0</td>\n",
       "      <td>Argus PT</td>\n",
       "    </tr>\n",
       "    <tr>\n",
       "      <th>26882</th>\n",
       "      <td>2021-09-30 17:37:11.606482944</td>\n",
       "      <td>NoPayload</td>\n",
       "      <td>4</td>\n",
       "      <td>5</td>\n",
       "      <td>0</td>\n",
       "      <td>60</td>\n",
       "      <td>37276</td>\n",
       "      <td>2</td>\n",
       "      <td>0</td>\n",
       "      <td>64</td>\n",
       "      <td>...</td>\n",
       "      <td>0</td>\n",
       "      <td>0</td>\n",
       "      <td>0</td>\n",
       "      <td>0</td>\n",
       "      <td>1</td>\n",
       "      <td>0 days 00:00:00.866777856</td>\n",
       "      <td>0</td>\n",
       "      <td>0</td>\n",
       "      <td>0.0</td>\n",
       "      <td>NoLabel</td>\n",
       "    </tr>\n",
       "    <tr>\n",
       "      <th>120887</th>\n",
       "      <td>2021-09-02 15:37:47.011867136</td>\n",
       "      <td>Raw</td>\n",
       "      <td>4</td>\n",
       "      <td>5</td>\n",
       "      <td>0</td>\n",
       "      <td>58</td>\n",
       "      <td>6301</td>\n",
       "      <td>2</td>\n",
       "      <td>0</td>\n",
       "      <td>64</td>\n",
       "      <td>...</td>\n",
       "      <td>0</td>\n",
       "      <td>0</td>\n",
       "      <td>0</td>\n",
       "      <td>0</td>\n",
       "      <td>6</td>\n",
       "      <td>0 days 00:00:00.000225280</td>\n",
       "      <td>0</td>\n",
       "      <td>0</td>\n",
       "      <td>0.0</td>\n",
       "      <td>HomeBase2</td>\n",
       "    </tr>\n",
       "    <tr>\n",
       "      <th>31797</th>\n",
       "      <td>2021-09-29 13:09:10.979712000</td>\n",
       "      <td>NoPayload</td>\n",
       "      <td>4</td>\n",
       "      <td>5</td>\n",
       "      <td>0</td>\n",
       "      <td>60</td>\n",
       "      <td>22934</td>\n",
       "      <td>2</td>\n",
       "      <td>0</td>\n",
       "      <td>64</td>\n",
       "      <td>...</td>\n",
       "      <td>0</td>\n",
       "      <td>0</td>\n",
       "      <td>0</td>\n",
       "      <td>0</td>\n",
       "      <td>1</td>\n",
       "      <td>0 days 00:00:00.427872768</td>\n",
       "      <td>0</td>\n",
       "      <td>0</td>\n",
       "      <td>0.0</td>\n",
       "      <td>NoLabel</td>\n",
       "    </tr>\n",
       "  </tbody>\n",
       "</table>\n",
       "<p>10 rows × 34 columns</p>\n",
       "</div>"
      ],
      "text/plain": [
       "                                time    payload IP_version  IP_ihl  IP_tos  \\\n",
       "50801  2021-09-15 06:49:03.544214016        Raw          4       5       0   \n",
       "7151   2021-09-28 17:36:37.921957120        Raw          4       5       0   \n",
       "46576  2021-09-15 06:45:16.947501056        Raw          4       5       0   \n",
       "83792  2021-09-05 09:35:40.253168128        Raw          4       5       0   \n",
       "23216  2021-09-28 12:12:14.240839936        Raw          4       5       0   \n",
       "81975  2021-09-05 09:28:43.126972928        Raw          4       5       0   \n",
       "88724  2021-09-05 09:34:51.154299136        Raw          4       5       0   \n",
       "26882  2021-09-30 17:37:11.606482944  NoPayload          4       5       0   \n",
       "120887 2021-09-02 15:37:47.011867136        Raw          4       5       0   \n",
       "31797  2021-09-29 13:09:10.979712000  NoPayload          4       5       0   \n",
       "\n",
       "        IP_len  IP_id  IP_flags  IP_frag  IP_ttl  ...  UDP_sport  UDP_dport  \\\n",
       "50801     1236  62631         2        0      64  ...      42084      47352   \n",
       "7151      1460  38514         2        0      62  ...          0          0   \n",
       "46576     1228  31782         2        0      64  ...      55384       6164   \n",
       "83792       56  47259         2        0      64  ...      22815      43402   \n",
       "23216     1228   5127         2        0      62  ...      39863       7042   \n",
       "81975     1492  64152         2        0      59  ...          0          0   \n",
       "88724       56  28562         0        0     128  ...      43402      22814   \n",
       "26882       60  37276         2        0      64  ...          0          0   \n",
       "120887      58   6301         2        0      64  ...          0          0   \n",
       "31797       60  22934         2        0      64  ...          0          0   \n",
       "\n",
       "       UDP_len UDP_chksum Raw_load           IP_int_arr_time  IP_Burst_ix  \\\n",
       "50801     1216      57000     1208 0 days 00:00:00.002708992          731   \n",
       "7151         0          0     1408 0 days 00:00:00.001255168         3411   \n",
       "46576     1208      25543     1200 0 days 00:00:00.000027904         1597   \n",
       "83792       36      26613       28 0 days 00:00:00.021288192            0   \n",
       "23216     1208       2837     1200 0 days 00:00:00.000139008         5395   \n",
       "81975        0          0     1452 0 days 00:00:00.000208896          176   \n",
       "88724       36       2729       28 0 days 00:00:00.022001152            0   \n",
       "26882        0          0        1 0 days 00:00:00.866777856            0   \n",
       "120887       0          0        6 0 days 00:00:00.000225280            0   \n",
       "31797        0          0        1 0 days 00:00:00.427872768            0   \n",
       "\n",
       "        IP_Burst_length  IP_Burst_avg_size          label  \n",
       "50801                41            1183.52  Spotlight Cam  \n",
       "7151                  8            1250.11        NoLabel  \n",
       "46576             15624            1199.92  Spotlight Cam  \n",
       "83792                 0                0.0       Argus PT  \n",
       "23216             15624            1199.92        NoLabel  \n",
       "81975                48            1366.73       Argus PT  \n",
       "88724                 0                0.0       Argus PT  \n",
       "26882                 0                0.0        NoLabel  \n",
       "120887                0                0.0      HomeBase2  \n",
       "31797                 0                0.0        NoLabel  \n",
       "\n",
       "[10 rows x 34 columns]"
      ]
     },
     "execution_count": 12,
     "metadata": {},
     "output_type": "execute_result"
    }
   ],
   "source": [
    "df.sample(10)"
   ]
  },
  {
   "cell_type": "code",
   "execution_count": 13,
   "metadata": {},
   "outputs": [
    {
     "name": "stdout",
     "output_type": "stream",
     "text": [
      "<class 'pandas.core.frame.DataFrame'>\n",
      "RangeIndex: 136196 entries, 0 to 136195\n",
      "Data columns (total 34 columns):\n",
      " #   Column             Non-Null Count   Dtype          \n",
      "---  ------             --------------   -----          \n",
      " 0   time               136196 non-null  datetime64[ns] \n",
      " 1   payload            136196 non-null  string         \n",
      " 2   IP_version         136196 non-null  string         \n",
      " 3   IP_ihl             136196 non-null  UInt8          \n",
      " 4   IP_tos             136196 non-null  UInt8          \n",
      " 5   IP_len             136196 non-null  UInt16         \n",
      " 6   IP_id              136196 non-null  UInt16         \n",
      " 7   IP_flags           136196 non-null  UInt8          \n",
      " 8   IP_frag            136196 non-null  UInt16         \n",
      " 9   IP_ttl             136196 non-null  UInt8          \n",
      " 10  IP_proto           136196 non-null  UInt8          \n",
      " 11  IP_chksum          136196 non-null  UInt16         \n",
      " 12  IP_src             136196 non-null  string         \n",
      " 13  IP_dst             136196 non-null  string         \n",
      " 14  TCP_sport          136196 non-null  string         \n",
      " 15  TCP_dport          136196 non-null  string         \n",
      " 16  TCP_seq            136196 non-null  UInt32         \n",
      " 17  TCP_ack            136196 non-null  UInt32         \n",
      " 18  TCP_dataofs        136196 non-null  UInt8          \n",
      " 19  TCP_reserved       136196 non-null  UInt8          \n",
      " 20  TCP_flags          136196 non-null  UInt8          \n",
      " 21  TCP_window         136196 non-null  UInt16         \n",
      " 22  TCP_chksum         136196 non-null  UInt16         \n",
      " 23  TCP_urgptr         136196 non-null  UInt16         \n",
      " 24  UDP_sport          136196 non-null  string         \n",
      " 25  UDP_dport          136196 non-null  string         \n",
      " 26  UDP_len            136196 non-null  UInt16         \n",
      " 27  UDP_chksum         136196 non-null  UInt16         \n",
      " 28  Raw_load           136196 non-null  UInt16         \n",
      " 29  IP_int_arr_time    136196 non-null  timedelta64[ns]\n",
      " 30  IP_Burst_ix        136196 non-null  int16          \n",
      " 31  IP_Burst_length    136196 non-null  int64          \n",
      " 32  IP_Burst_avg_size  136196 non-null  Float64        \n",
      " 33  label              136196 non-null  string         \n",
      "dtypes: Float64(1), UInt16(10), UInt32(2), UInt8(8), datetime64[ns](1), int16(1), int64(1), string(9), timedelta64[ns](1)\n",
      "memory usage: 21.2 MB\n"
     ]
    }
   ],
   "source": [
    "df.info()"
   ]
  },
  {
   "cell_type": "code",
   "execution_count": 14,
   "metadata": {},
   "outputs": [],
   "source": [
    "training_features = [\n",
    "    # 'time',\n",
    "    # 'payload',\n",
    "    # 'IP_version',\n",
    "    # 'IP_ihl',\n",
    "    # 'IP_tos',\n",
    "    # 'IP_len',\n",
    "    # 'IP_id',\n",
    "    # 'IP_flags',\n",
    "    # 'IP_frag',\n",
    "    # 'IP_ttl',\n",
    "    # 'IP_proto',\n",
    "    # 'IP_chksum',\n",
    "    # 'IP_src',\n",
    "    # 'IP_dst',\n",
    "    # 'TCP_sport',\n",
    "    # 'TCP_dport',\n",
    "    # 'TCP_seq',\n",
    "    # 'TCP_ack',\n",
    "    # 'TCP_dataofs',\n",
    "    # 'TCP_reserved',\n",
    "    # 'TCP_flags',\n",
    "    # 'TCP_window',\n",
    "    # 'TCP_chksum',\n",
    "    # 'TCP_urgptr',\n",
    "    # 'UDP_sport',\n",
    "    # 'UDP_dport',\n",
    "    # 'UDP_len',\n",
    "    # 'UDP_chksum',\n",
    "    'Raw_load',\n",
    "    'IP_int_arr_time',\n",
    "    # 'IP_Burst_ix',\n",
    "    'IP_Burst_length',\n",
    "    'IP_Burst_avg_size',\n",
    "  ]\n",
    "\n",
    "# dimensionality of one hot would be too high for Ports, so we use their integer values\n",
    "for col in ['TCP_sport', 'TCP_dport', 'UDP_sport', 'UDP_dport']:\n",
    "  df[col] = df[col].astype(\"UInt32\")\n",
    "\n",
    "df['IP_int_arr_time'] = df['IP_int_arr_time'].dt.total_seconds() * 1000 # Convert timedelta to milliseconds\n",
    "df['IP_int_arr_time'] = df['IP_int_arr_time'].astype('Float64')"
   ]
  },
  {
   "cell_type": "code",
   "execution_count": 15,
   "metadata": {},
   "outputs": [
    {
     "name": "stdout",
     "output_type": "stream",
     "text": [
      "<class 'pandas.core.frame.DataFrame'>\n",
      "RangeIndex: 136196 entries, 0 to 136195\n",
      "Data columns (total 4 columns):\n",
      " #   Column             Non-Null Count   Dtype  \n",
      "---  ------             --------------   -----  \n",
      " 0   Raw_load           136196 non-null  UInt16 \n",
      " 1   IP_int_arr_time    136196 non-null  Float64\n",
      " 2   IP_Burst_length    136196 non-null  int64  \n",
      " 3   IP_Burst_avg_size  136196 non-null  Float64\n",
      "dtypes: Float64(2), UInt16(1), int64(1)\n",
      "memory usage: 3.8 MB\n"
     ]
    }
   ],
   "source": [
    "df[training_features].info()"
   ]
  },
  {
   "cell_type": "code",
   "execution_count": 16,
   "metadata": {},
   "outputs": [],
   "source": [
    "train, test = train_test_split(df, test_size=0.4)\n",
    "\n",
    "X = train[training_features]\n",
    "X_test = test[training_features]\n",
    "\n",
    "y = train['label']\n",
    "y_test = test['label']\n",
    "\n",
    "lb = LabelBinarizer()\n",
    "lb.fit(df['label'])\n",
    "y = lb.transform(y)\n",
    "y_test = lb.transform(y_test)"
   ]
  },
  {
   "cell_type": "markdown",
   "metadata": {},
   "source": [
    "## Classifiers"
   ]
  },
  {
   "cell_type": "code",
   "execution_count": 17,
   "metadata": {},
   "outputs": [],
   "source": [
    "from sklearn.ensemble import RandomForestClassifier\n",
    "\n",
    "forest = RandomForestClassifier(n_estimators=100)\n",
    "forest = forest.fit(X, y)"
   ]
  },
  {
   "cell_type": "code",
   "execution_count": 18,
   "metadata": {},
   "outputs": [],
   "source": [
    "from sklearn.neighbors import KNeighborsClassifier\n",
    "\n",
    "k = 5\n",
    "weights = 'uniform'\n",
    "\n",
    "neighbor = KNeighborsClassifier(n_neighbors=k, weights=weights)\n",
    "neighbor = neighbor.fit(X, y)"
   ]
  },
  {
   "cell_type": "code",
   "execution_count": 19,
   "metadata": {},
   "outputs": [],
   "source": [
    "from sklearn.svm import LinearSVC\n",
    "from sklearn.multioutput import MultiOutputClassifier\n",
    "\n",
    "# Create the SVM\n",
    "svm = LinearSVC(random_state=42)\n",
    "\n",
    "# Make it an Multilabel classifier\n",
    "machine = MultiOutputClassifier(svm, n_jobs=-1)\n",
    "\n",
    "# Fit the data to the Multilabel classifier\n",
    "machine = machine.fit(X, y)"
   ]
  },
  {
   "cell_type": "markdown",
   "metadata": {},
   "source": [
    "## Evaluation"
   ]
  },
  {
   "cell_type": "markdown",
   "metadata": {},
   "source": [
    "### Forest"
   ]
  },
  {
   "cell_type": "code",
   "execution_count": 43,
   "metadata": {},
   "outputs": [],
   "source": [
    "y_pred = forest.predict(X_test)"
   ]
  },
  {
   "cell_type": "code",
   "execution_count": 34,
   "metadata": {},
   "outputs": [
    {
     "name": "stdout",
     "output_type": "stream",
     "text": [
      "y_test already in original form.\n",
      "0.9180785256704418 0.917405037324415\n"
     ]
    }
   ],
   "source": [
    "try:\n",
    "  y_test = lb.inverse_transform(y_test)\n",
    "except np.AxisError:\n",
    "  print(\"y_test already in original form.\")\n",
    "y_pred = lb.inverse_transform(y_pred)\n",
    "\n",
    "acc = metrics.accuracy_score(y_test, y_pred)\n",
    "f1_score = metrics.f1_score(y_test, y_pred, average='weighted')\n",
    "print(acc, f1_score)"
   ]
  },
  {
   "cell_type": "code",
   "execution_count": 22,
   "metadata": {},
   "outputs": [],
   "source": [
    "forest_df = pd.DataFrame(metrics.classification_report(y_test, y_pred, target_names=lb.classes_, output_dict=True))"
   ]
  },
  {
   "cell_type": "code",
   "execution_count": 23,
   "metadata": {},
   "outputs": [
    {
     "data": {
      "text/html": [
       "<div>\n",
       "<style scoped>\n",
       "    .dataframe tbody tr th:only-of-type {\n",
       "        vertical-align: middle;\n",
       "    }\n",
       "\n",
       "    .dataframe tbody tr th {\n",
       "        vertical-align: top;\n",
       "    }\n",
       "\n",
       "    .dataframe thead th {\n",
       "        text-align: right;\n",
       "    }\n",
       "</style>\n",
       "<table border=\"1\" class=\"dataframe\">\n",
       "  <thead>\n",
       "    <tr style=\"text-align: right;\">\n",
       "      <th></th>\n",
       "      <th>Argus PT</th>\n",
       "      <th>HomeBase2</th>\n",
       "      <th>NoLabel</th>\n",
       "      <th>Spotlight Cam</th>\n",
       "      <th>accuracy</th>\n",
       "      <th>macro avg</th>\n",
       "      <th>weighted avg</th>\n",
       "    </tr>\n",
       "  </thead>\n",
       "  <tbody>\n",
       "    <tr>\n",
       "      <th>precision</th>\n",
       "      <td>0.939607</td>\n",
       "      <td>0.930237</td>\n",
       "      <td>0.887870</td>\n",
       "      <td>0.909420</td>\n",
       "      <td>0.917344</td>\n",
       "      <td>0.916783</td>\n",
       "      <td>0.916825</td>\n",
       "    </tr>\n",
       "    <tr>\n",
       "      <th>recall</th>\n",
       "      <td>0.934143</td>\n",
       "      <td>0.993422</td>\n",
       "      <td>0.852926</td>\n",
       "      <td>0.889118</td>\n",
       "      <td>0.917344</td>\n",
       "      <td>0.917402</td>\n",
       "      <td>0.917344</td>\n",
       "    </tr>\n",
       "    <tr>\n",
       "      <th>f1-score</th>\n",
       "      <td>0.936867</td>\n",
       "      <td>0.960792</td>\n",
       "      <td>0.870047</td>\n",
       "      <td>0.899154</td>\n",
       "      <td>0.917344</td>\n",
       "      <td>0.916715</td>\n",
       "      <td>0.916709</td>\n",
       "    </tr>\n",
       "    <tr>\n",
       "      <th>support</th>\n",
       "      <td>13757.000000</td>\n",
       "      <td>13530.000000</td>\n",
       "      <td>13619.000000</td>\n",
       "      <td>13573.000000</td>\n",
       "      <td>0.917344</td>\n",
       "      <td>54479.000000</td>\n",
       "      <td>54479.000000</td>\n",
       "    </tr>\n",
       "  </tbody>\n",
       "</table>\n",
       "</div>"
      ],
      "text/plain": [
       "               Argus PT     HomeBase2       NoLabel  Spotlight Cam  accuracy  \\\n",
       "precision      0.939607      0.930237      0.887870       0.909420  0.917344   \n",
       "recall         0.934143      0.993422      0.852926       0.889118  0.917344   \n",
       "f1-score       0.936867      0.960792      0.870047       0.899154  0.917344   \n",
       "support    13757.000000  13530.000000  13619.000000   13573.000000  0.917344   \n",
       "\n",
       "              macro avg  weighted avg  \n",
       "precision      0.916783      0.916825  \n",
       "recall         0.917402      0.917344  \n",
       "f1-score       0.916715      0.916709  \n",
       "support    54479.000000  54479.000000  "
      ]
     },
     "execution_count": 23,
     "metadata": {},
     "output_type": "execute_result"
    }
   ],
   "source": [
    "forest_df"
   ]
  },
  {
   "cell_type": "code",
   "execution_count": 24,
   "metadata": {},
   "outputs": [],
   "source": [
    "forest_df_crop = forest_df.drop(['macro avg', 'weighted avg', 'accuracy'], axis=1)\n",
    "forest_df_crop = forest_df_crop.drop(['support'], axis=0)"
   ]
  },
  {
   "cell_type": "code",
   "execution_count": 25,
   "metadata": {},
   "outputs": [
    {
     "name": "stdout",
     "output_type": "stream",
     "text": [
      "Argus PT: 13757\n",
      "HomeBase2: 13530\n",
      "NoLabel: 13619\n",
      "Spotlight Cam: 13573\n"
     ]
    }
   ],
   "source": [
    "labels, counts = np.unique(y_test, return_counts=True)\n",
    "for label, count_ in zip(labels, counts):\n",
    "  print(f\"{label}: {count_}\")"
   ]
  },
  {
   "cell_type": "code",
   "execution_count": 26,
   "metadata": {},
   "outputs": [
    {
     "data": {
      "image/png": "[encoded data removed]",
      "text/plain": [
       "<Figure size 432x288 with 2 Axes>"
      ]
     },
     "metadata": {
      "needs_background": "light"
     },
     "output_type": "display_data"
    }
   ],
   "source": [
    "cm_display = metrics.ConfusionMatrixDisplay.from_predictions(y_true=y_test, y_pred=y_pred, xticks_rotation='vertical', cmap='Greens')"
   ]
  },
  {
   "cell_type": "markdown",
   "metadata": {},
   "source": [
    "#### Feature Importance"
   ]
  },
  {
   "cell_type": "code",
   "execution_count": 27,
   "metadata": {},
   "outputs": [],
   "source": [
    "from sklearn.inspection import permutation_importance\n",
    "\n",
    "y_test = lb.transform(y_test)\n",
    "\n",
    "importances = forest.feature_importances_\n",
    "forest_importances_MDI = pd.Series(importances, index=training_features)\n",
    "forest_importances_MDI_std = np.std([tree.feature_importances_ for tree in forest.estimators_], axis=0)\n",
    "\n",
    "importances = permutation_importance(\n",
    "    forest, X_test, y_test, n_repeats=10, random_state=42, n_jobs=4\n",
    ")\n",
    "forest_importances_permute = pd.Series(importances.importances_mean, index=training_features)\n",
    "forest_importances_permute_std = importances.importances_std"
   ]
  },
  {
   "cell_type": "code",
   "execution_count": 28,
   "metadata": {},
   "outputs": [
    {
     "data": {
      "application/vnd.plotly.v1+json": {
       "config": {
        "plotlyServerURL": "https://plot.ly"
       },
       "data": [
        {
         "error_y": {
          "array": [
           0.056171781449087584,
           0.04306512237885303,
           0.04407367017776555,
           0.04522603628334664
          ],
          "type": "data",
          "visible": true
         },
         "name": "Feature importances using MDI",
         "type": "bar",
         "x": [
          "Raw_load",
          "IP_int_arr_time",
          "IP_Burst_length",
          "IP_Burst_avg_size"
         ],
         "xaxis": "x",
         "y": [
          0.40317584765596615,
          0.3790831323263592,
          0.11650897343636851,
          0.10123204658130608
         ],
         "yaxis": "y"
        },
        {
         "error_y": {
          "array": [
           0.0020952559427323794,
           0.0008241871337535534,
           0.000820349744047177,
           0.0008499004722834929
          ],
          "type": "data",
          "visible": true
         },
         "name": "Feature importances using permutation",
         "type": "bar",
         "x": [
          "Raw_load",
          "IP_int_arr_time",
          "IP_Burst_length",
          "IP_Burst_avg_size"
         ],
         "xaxis": "x2",
         "y": [
          0.5018704454927587,
          0.24998806879715124,
          0.17713614420235327,
          0.2221131078030067
         ],
         "yaxis": "y2"
        }
       ],
       "layout": {
        "height": 600,
        "legend": {
         "orientation": "h",
         "x": 0,
         "xanchor": "left",
         "y": 1.02,
         "yanchor": "bottom"
        },
        "margin": {
         "b": 10,
         "t": 10
        },
        "template": {
         "data": {
          "bar": [
           {
            "error_x": {
             "color": "#2a3f5f"
            },
            "error_y": {
             "color": "#2a3f5f"
            },
            "marker": {
             "line": {
              "color": "#E5ECF6",
              "width": 0.5
             },
             "pattern": {
              "fillmode": "overlay",
              "size": 10,
              "solidity": 0.2
             }
            },
            "type": "bar"
           }
          ],
          "barpolar": [
           {
            "marker": {
             "line": {
              "color": "#E5ECF6",
              "width": 0.5
             },
             "pattern": {
              "fillmode": "overlay",
              "size": 10,
              "solidity": 0.2
             }
            },
            "type": "barpolar"
           }
          ],
          "carpet": [
           {
            "aaxis": {
             "endlinecolor": "#2a3f5f",
             "gridcolor": "white",
             "linecolor": "white",
             "minorgridcolor": "white",
             "startlinecolor": "#2a3f5f"
            },
            "baxis": {
             "endlinecolor": "#2a3f5f",
             "gridcolor": "white",
             "linecolor": "white",
             "minorgridcolor": "white",
             "startlinecolor": "#2a3f5f"
            },
            "type": "carpet"
           }
          ],
          "choropleth": [
           {
            "colorbar": {
             "outlinewidth": 0,
             "ticks": ""
            },
            "type": "choropleth"
           }
          ],
          "contour": [
           {
            "colorbar": {
             "outlinewidth": 0,
             "ticks": ""
            },
            "colorscale": [
             [
              0,
              "#0d0887"
             ],
             [
              0.1111111111111111,
              "#46039f"
             ],
             [
              0.2222222222222222,
              "#7201a8"
             ],
             [
              0.3333333333333333,
              "#9c179e"
             ],
             [
              0.4444444444444444,
              "#bd3786"
             ],
             [
              0.5555555555555556,
              "#d8576b"
             ],
             [
              0.6666666666666666,
              "#ed7953"
             ],
             [
              0.7777777777777778,
              "#fb9f3a"
             ],
             [
              0.8888888888888888,
              "#fdca26"
             ],
             [
              1,
              "#f0f921"
             ]
            ],
            "type": "contour"
           }
          ],
          "contourcarpet": [
           {
            "colorbar": {
             "outlinewidth": 0,
             "ticks": ""
            },
            "type": "contourcarpet"
           }
          ],
          "heatmap": [
           {
            "colorbar": {
             "outlinewidth": 0,
             "ticks": ""
            },
            "colorscale": [
             [
              0,
              "#0d0887"
             ],
             [
              0.1111111111111111,
              "#46039f"
             ],
             [
              0.2222222222222222,
              "#7201a8"
             ],
             [
              0.3333333333333333,
              "#9c179e"
             ],
             [
              0.4444444444444444,
              "#bd3786"
             ],
             [
              0.5555555555555556,
              "#d8576b"
             ],
             [
              0.6666666666666666,
              "#ed7953"
             ],
             [
              0.7777777777777778,
              "#fb9f3a"
             ],
             [
              0.8888888888888888,
              "#fdca26"
             ],
             [
              1,
              "#f0f921"
             ]
            ],
            "type": "heatmap"
           }
          ],
          "heatmapgl": [
           {
            "colorbar": {
             "outlinewidth": 0,
             "ticks": ""
            },
            "colorscale": [
             [
              0,
              "#0d0887"
             ],
             [
              0.1111111111111111,
              "#46039f"
             ],
             [
              0.2222222222222222,
              "#7201a8"
             ],
             [
              0.3333333333333333,
              "#9c179e"
             ],
             [
              0.4444444444444444,
              "#bd3786"
             ],
             [
              0.5555555555555556,
              "#d8576b"
             ],
             [
              0.6666666666666666,
              "#ed7953"
             ],
             [
              0.7777777777777778,
              "#fb9f3a"
             ],
             [
              0.8888888888888888,
              "#fdca26"
             ],
             [
              1,
              "#f0f921"
             ]
            ],
            "type": "heatmapgl"
           }
          ],
          "histogram": [
           {
            "marker": {
             "pattern": {
              "fillmode": "overlay",
              "size": 10,
              "solidity": 0.2
             }
            },
            "type": "histogram"
           }
          ],
          "histogram2d": [
           {
            "colorbar": {
             "outlinewidth": 0,
             "ticks": ""
            },
            "colorscale": [
             [
              0,
              "#0d0887"
             ],
             [
              0.1111111111111111,
              "#46039f"
             ],
             [
              0.2222222222222222,
              "#7201a8"
             ],
             [
              0.3333333333333333,
              "#9c179e"
             ],
             [
              0.4444444444444444,
              "#bd3786"
             ],
             [
              0.5555555555555556,
              "#d8576b"
             ],
             [
              0.6666666666666666,
              "#ed7953"
             ],
             [
              0.7777777777777778,
              "#fb9f3a"
             ],
             [
              0.8888888888888888,
              "#fdca26"
             ],
             [
              1,
              "#f0f921"
             ]
            ],
            "type": "histogram2d"
           }
          ],
          "histogram2dcontour": [
           {
            "colorbar": {
             "outlinewidth": 0,
             "ticks": ""
            },
            "colorscale": [
             [
              0,
              "#0d0887"
             ],
             [
              0.1111111111111111,
              "#46039f"
             ],
             [
              0.2222222222222222,
              "#7201a8"
             ],
             [
              0.3333333333333333,
              "#9c179e"
             ],
             [
              0.4444444444444444,
              "#bd3786"
             ],
             [
              0.5555555555555556,
              "#d8576b"
             ],
             [
              0.6666666666666666,
              "#ed7953"
             ],
             [
              0.7777777777777778,
              "#fb9f3a"
             ],
             [
              0.8888888888888888,
              "#fdca26"
             ],
             [
              1,
              "#f0f921"
             ]
            ],
            "type": "histogram2dcontour"
           }
          ],
          "mesh3d": [
           {
            "colorbar": {
             "outlinewidth": 0,
             "ticks": ""
            },
            "type": "mesh3d"
           }
          ],
          "parcoords": [
           {
            "line": {
             "colorbar": {
              "outlinewidth": 0,
              "ticks": ""
             }
            },
            "type": "parcoords"
           }
          ],
          "pie": [
           {
            "automargin": true,
            "type": "pie"
           }
          ],
          "scatter": [
           {
            "marker": {
             "colorbar": {
              "outlinewidth": 0,
              "ticks": ""
             }
            },
            "type": "scatter"
           }
          ],
          "scatter3d": [
           {
            "line": {
             "colorbar": {
              "outlinewidth": 0,
              "ticks": ""
             }
            },
            "marker": {
             "colorbar": {
              "outlinewidth": 0,
              "ticks": ""
             }
            },
            "type": "scatter3d"
           }
          ],
          "scattercarpet": [
           {
            "marker": {
             "colorbar": {
              "outlinewidth": 0,
              "ticks": ""
             }
            },
            "type": "scattercarpet"
           }
          ],
          "scattergeo": [
           {
            "marker": {
             "colorbar": {
              "outlinewidth": 0,
              "ticks": ""
             }
            },
            "type": "scattergeo"
           }
          ],
          "scattergl": [
           {
            "marker": {
             "colorbar": {
              "outlinewidth": 0,
              "ticks": ""
             }
            },
            "type": "scattergl"
           }
          ],
          "scattermapbox": [
           {
            "marker": {
             "colorbar": {
              "outlinewidth": 0,
              "ticks": ""
             }
            },
            "type": "scattermapbox"
           }
          ],
          "scatterpolar": [
           {
            "marker": {
             "colorbar": {
              "outlinewidth": 0,
              "ticks": ""
             }
            },
            "type": "scatterpolar"
           }
          ],
          "scatterpolargl": [
           {
            "marker": {
             "colorbar": {
              "outlinewidth": 0,
              "ticks": ""
             }
            },
            "type": "scatterpolargl"
           }
          ],
          "scatterternary": [
           {
            "marker": {
             "colorbar": {
              "outlinewidth": 0,
              "ticks": ""
             }
            },
            "type": "scatterternary"
           }
          ],
          "surface": [
           {
            "colorbar": {
             "outlinewidth": 0,
             "ticks": ""
            },
            "colorscale": [
             [
              0,
              "#0d0887"
             ],
             [
              0.1111111111111111,
              "#46039f"
             ],
             [
              0.2222222222222222,
              "#7201a8"
             ],
             [
              0.3333333333333333,
              "#9c179e"
             ],
             [
              0.4444444444444444,
              "#bd3786"
             ],
             [
              0.5555555555555556,
              "#d8576b"
             ],
             [
              0.6666666666666666,
              "#ed7953"
             ],
             [
              0.7777777777777778,
              "#fb9f3a"
             ],
             [
              0.8888888888888888,
              "#fdca26"
             ],
             [
              1,
              "#f0f921"
             ]
            ],
            "type": "surface"
           }
          ],
          "table": [
           {
            "cells": {
             "fill": {
              "color": "#EBF0F8"
             },
             "line": {
              "color": "white"
             }
            },
            "header": {
             "fill": {
              "color": "#C8D4E3"
             },
             "line": {
              "color": "white"
             }
            },
            "type": "table"
           }
          ]
         },
         "layout": {
          "annotationdefaults": {
           "arrowcolor": "#2a3f5f",
           "arrowhead": 0,
           "arrowwidth": 1
          },
          "autotypenumbers": "strict",
          "coloraxis": {
           "colorbar": {
            "outlinewidth": 0,
            "ticks": ""
           }
          },
          "colorscale": {
           "diverging": [
            [
             0,
             "#8e0152"
            ],
            [
             0.1,
             "#c51b7d"
            ],
            [
             0.2,
             "#de77ae"
            ],
            [
             0.3,
             "#f1b6da"
            ],
            [
             0.4,
             "#fde0ef"
            ],
            [
             0.5,
             "#f7f7f7"
            ],
            [
             0.6,
             "#e6f5d0"
            ],
            [
             0.7,
             "#b8e186"
            ],
            [
             0.8,
             "#7fbc41"
            ],
            [
             0.9,
             "#4d9221"
            ],
            [
             1,
             "#276419"
            ]
           ],
           "sequential": [
            [
             0,
             "#0d0887"
            ],
            [
             0.1111111111111111,
             "#46039f"
            ],
            [
             0.2222222222222222,
             "#7201a8"
            ],
            [
             0.3333333333333333,
             "#9c179e"
            ],
            [
             0.4444444444444444,
             "#bd3786"
            ],
            [
             0.5555555555555556,
             "#d8576b"
            ],
            [
             0.6666666666666666,
             "#ed7953"
            ],
            [
             0.7777777777777778,
             "#fb9f3a"
            ],
            [
             0.8888888888888888,
             "#fdca26"
            ],
            [
             1,
             "#f0f921"
            ]
           ],
           "sequentialminus": [
            [
             0,
             "#0d0887"
            ],
            [
             0.1111111111111111,
             "#46039f"
            ],
            [
             0.2222222222222222,
             "#7201a8"
            ],
            [
             0.3333333333333333,
             "#9c179e"
            ],
            [
             0.4444444444444444,
             "#bd3786"
            ],
            [
             0.5555555555555556,
             "#d8576b"
            ],
            [
             0.6666666666666666,
             "#ed7953"
            ],
            [
             0.7777777777777778,
             "#fb9f3a"
            ],
            [
             0.8888888888888888,
             "#fdca26"
            ],
            [
             1,
             "#f0f921"
            ]
           ]
          },
          "colorway": [
           "#636efa",
           "#EF553B",
           "#00cc96",
           "#ab63fa",
           "#FFA15A",
           "#19d3f3",
           "#FF6692",
           "#B6E880",
           "#FF97FF",
           "#FECB52"
          ],
          "font": {
           "color": "#2a3f5f"
          },
          "geo": {
           "bgcolor": "white",
           "lakecolor": "white",
           "landcolor": "#E5ECF6",
           "showlakes": true,
           "showland": true,
           "subunitcolor": "white"
          },
          "hoverlabel": {
           "align": "left"
          },
          "hovermode": "closest",
          "mapbox": {
           "style": "light"
          },
          "paper_bgcolor": "white",
          "plot_bgcolor": "#E5ECF6",
          "polar": {
           "angularaxis": {
            "gridcolor": "white",
            "linecolor": "white",
            "ticks": ""
           },
           "bgcolor": "#E5ECF6",
           "radialaxis": {
            "gridcolor": "white",
            "linecolor": "white",
            "ticks": ""
           }
          },
          "scene": {
           "xaxis": {
            "backgroundcolor": "#E5ECF6",
            "gridcolor": "white",
            "gridwidth": 2,
            "linecolor": "white",
            "showbackground": true,
            "ticks": "",
            "zerolinecolor": "white"
           },
           "yaxis": {
            "backgroundcolor": "#E5ECF6",
            "gridcolor": "white",
            "gridwidth": 2,
            "linecolor": "white",
            "showbackground": true,
            "ticks": "",
            "zerolinecolor": "white"
           },
           "zaxis": {
            "backgroundcolor": "#E5ECF6",
            "gridcolor": "white",
            "gridwidth": 2,
            "linecolor": "white",
            "showbackground": true,
            "ticks": "",
            "zerolinecolor": "white"
           }
          },
          "shapedefaults": {
           "line": {
            "color": "#2a3f5f"
           }
          },
          "ternary": {
           "aaxis": {
            "gridcolor": "white",
            "linecolor": "white",
            "ticks": ""
           },
           "baxis": {
            "gridcolor": "white",
            "linecolor": "white",
            "ticks": ""
           },
           "bgcolor": "#E5ECF6",
           "caxis": {
            "gridcolor": "white",
            "linecolor": "white",
            "ticks": ""
           }
          },
          "title": {
           "x": 0.05
          },
          "xaxis": {
           "automargin": true,
           "gridcolor": "white",
           "linecolor": "white",
           "ticks": "",
           "title": {
            "standoff": 15
           },
           "zerolinecolor": "white",
           "zerolinewidth": 2
          },
          "yaxis": {
           "automargin": true,
           "gridcolor": "white",
           "linecolor": "white",
           "ticks": "",
           "title": {
            "standoff": 15
           },
           "zerolinecolor": "white",
           "zerolinewidth": 2
          }
         }
        },
        "width": 900,
        "xaxis": {
         "anchor": "y",
         "domain": [
          0,
          1
         ]
        },
        "xaxis2": {
         "anchor": "y2",
         "domain": [
          0,
          1
         ]
        },
        "yaxis": {
         "anchor": "x",
         "domain": [
          0.575,
          1
         ],
         "title": {
          "text": "Mean decrease in impurity"
         }
        },
        "yaxis2": {
         "anchor": "x2",
         "domain": [
          0,
          0.425
         ],
         "title": {
          "text": "Mean decrease in accuracy"
         }
        }
       }
      }
     },
     "metadata": {},
     "output_type": "display_data"
    }
   ],
   "source": [
    "fig = make_subplots(rows=2, cols=1)\n",
    "\n",
    "trace1 = fig.add_trace(\n",
    "    go.Bar(\n",
    "      x=training_features,\n",
    "      y=forest_importances_MDI,\n",
    "      error_y=dict(\n",
    "            type='data', # value of error bar given in data coordinates\n",
    "            array=forest_importances_MDI_std,\n",
    "            visible=True\n",
    "            ),\n",
    "      name=\"Feature importances using MDI\",\n",
    "      # text=forest_importances_MDI\n",
    "      ),\n",
    "    row=1, col=1\n",
    ")\n",
    "\n",
    "trace2 = fig.add_trace(\n",
    "    go.Bar(\n",
    "      x=training_features,\n",
    "      y=forest_importances_permute,\n",
    "      error_y=dict(\n",
    "            type='data', # value of error bar given in data coordinates\n",
    "            array=forest_importances_permute_std,\n",
    "            visible=True\n",
    "            ),\n",
    "      name=\"Feature importances using permutation\",\n",
    "      # text=forest_importances_permute\n",
    "      ),\n",
    "    row=2, col=1\n",
    ")\n",
    "\n",
    "fig.update_layout(\n",
    "  height=600, \n",
    "  width=900, \n",
    ")\n",
    "fig.update_layout(\n",
    "  legend=dict(\n",
    "    orientation=\"h\",\n",
    "    yanchor=\"bottom\",\n",
    "    y=1.02,\n",
    "    xanchor=\"left\",\n",
    "    x=0\n",
    "    )\n",
    "  )\n",
    "\n",
    "fig.update_yaxes(title=\"Mean decrease in impurity\", row=1, col=1)\n",
    "fig.update_yaxes(title=\"Mean decrease in accuracy\", row=2, col=1)\n",
    "fig.update_layout(margin=dict(t=10, b=10))\n",
    "fig.write_image(\"assets/feat_importances.pdf\")\n",
    "fig.show()"
   ]
  },
  {
   "cell_type": "markdown",
   "metadata": {},
   "source": [
    "#### Optimization"
   ]
  },
  {
   "cell_type": "code",
   "execution_count": 29,
   "metadata": {},
   "outputs": [],
   "source": [
    "# Number of trees in random forest\n",
    "n_estimators = [int(x) for x in np.linspace(start = 100, stop = 2000, num = 20)]\n",
    "# Number of features to consider at every split\n",
    "max_features = ['auto', 'sqrt', 'log2']\n",
    "# Maximum number of levels in tree\n",
    "max_depth = [int(x) for x in np.linspace(10, 110, num = 11)]\n",
    "max_depth.append(None)\n",
    "# Minimum number of samples required to split a node\n",
    "min_samples_split = [2, 5, 10]\n",
    "# Minimum number of samples required at each leaf node\n",
    "min_samples_leaf = [1, 2, 4]\n",
    "# Method of selecting samples for training each tree\n",
    "bootstrap = [True, False]\n",
    "# Criterion for measuring the quality of a split\n",
    "criterion = ['gini', 'entropy']\n",
    "\n",
    "random_grid = {\n",
    "  'n_estimators': n_estimators,\n",
    "  'criterion': criterion,\n",
    "  'max_depth': max_depth,\n",
    "  'min_samples_split': min_samples_split,\n",
    "  'min_samples_leaf': min_samples_leaf,\n",
    "  'max_features': max_features,\n",
    "  'bootstrap': bootstrap\n",
    "  }"
   ]
  },
  {
   "cell_type": "code",
   "execution_count": 30,
   "metadata": {},
   "outputs": [],
   "source": [
    "best_forest_path = Path(\"rf_classifier.joblib\")\n",
    "\n",
    "if not best_forest_path.is_file():\n",
    "  rf_random = RandomizedSearchCV(estimator = forest, param_distributions = random_grid, n_iter = 100, cv = 3, verbose=2, random_state=42, n_jobs = -1)\n",
    "  rf_random.fit(X, y)"
   ]
  },
  {
   "cell_type": "code",
   "execution_count": 31,
   "metadata": {},
   "outputs": [],
   "source": [
    "try:\n",
    "  dump(rf_random.best_estimator_, best_forest_path)\n",
    "except NameError:\n",
    "  best_forest = load(best_forest_path)"
   ]
  },
  {
   "cell_type": "code",
   "execution_count": 32,
   "metadata": {},
   "outputs": [
    {
     "name": "stdout",
     "output_type": "stream",
     "text": [
      "142.9547443 ms ± 27.59192642 ms per loop (mean ± std. dev. of 20 runs, 20 loops each)\n"
     ]
    }
   ],
   "source": [
    "best_forest_time = %timeit -o -p 10 -r 20 -n 20 y_pred = best_forest.predict(X_test.sample(1))"
   ]
  },
  {
   "cell_type": "code",
   "execution_count": 33,
   "metadata": {},
   "outputs": [
    {
     "data": {
      "text/plain": [
       "0.1429547442500001"
      ]
     },
     "execution_count": 33,
     "metadata": {},
     "output_type": "execute_result"
    }
   ],
   "source": [
    "best_forest_time.average"
   ]
  },
  {
   "cell_type": "code",
   "execution_count": 34,
   "metadata": {},
   "outputs": [
    {
     "name": "stdout",
     "output_type": "stream",
     "text": [
      "               Argus PT     HomeBase2       NoLabel  Spotlight Cam  accuracy  \\\n",
      "precision      0.939607      0.930237      0.887870       0.909420  0.917344   \n",
      "recall         0.934143      0.993422      0.852926       0.889118  0.917344   \n",
      "f1-score       0.936867      0.960792      0.870047       0.899154  0.917344   \n",
      "support    13757.000000  13530.000000  13619.000000   13573.000000  0.917344   \n",
      "\n",
      "              macro avg  weighted avg  \n",
      "precision      0.916783      0.916825  \n",
      "recall         0.917402      0.917344  \n",
      "f1-score       0.916715      0.916709  \n",
      "support    54479.000000  54479.000000  \n",
      "               Argus PT     HomeBase2       NoLabel  Spotlight Cam  accuracy  \\\n",
      "precision      0.940509      0.939208      0.907914       0.926586   0.92911   \n",
      "recall         0.964164      0.993422      0.854982       0.903853   0.92911   \n",
      "f1-score       0.952190      0.965554      0.880653       0.915079   0.92911   \n",
      "support    13757.000000  13530.000000  13619.000000   13573.000000   0.92911   \n",
      "\n",
      "              macro avg  weighted avg  \n",
      "precision      0.928554      0.928569  \n",
      "recall         0.929105      0.929110  \n",
      "f1-score       0.928369      0.928380  \n",
      "support    54479.000000  54479.000000  \n"
     ]
    }
   ],
   "source": [
    "print(forest_df)\n",
    "\n",
    "y_pred = best_forest.predict(X_test)\n",
    "try:\n",
    "  y_test = lb.inverse_transform(y_test)\n",
    "except np.AxisError:\n",
    "  print(\"y_test already in original form.\")\n",
    "y_pred = lb.inverse_transform(y_pred)\n",
    "\n",
    "acc = metrics.accuracy_score(y_test, y_pred)\n",
    "f1_score = metrics.f1_score(y_test, y_pred, average='weighted')\n",
    "\n",
    "best_forest_df = pd.DataFrame(metrics.classification_report(y_test, y_pred, target_names=lb.classes_, output_dict=True))\n",
    "print(best_forest_df)"
   ]
  },
  {
   "cell_type": "code",
   "execution_count": 35,
   "metadata": {},
   "outputs": [],
   "source": [
    "# Saves tree dot file in case RandomSearchCV was run\n",
    "try:\n",
    "  tree_ = tree.export_graphviz(\n",
    "    rf_random.best_estimator_.estimators_[0],\n",
    "    feature_names=training_features,\n",
    "    max_depth=3,\n",
    "    filled=True,\n",
    "    rounded=True,\n",
    "    out_file='assets/tree.dot'\n",
    "    )\n",
    "\n",
    "  os.system('dot -Tpdf assets/tree.dot -o assets/tree.pdf')\n",
    "except NameError:\n",
    "  pass"
   ]
  },
  {
   "cell_type": "markdown",
   "metadata": {},
   "source": [
    "### Neighbor"
   ]
  },
  {
   "cell_type": "code",
   "execution_count": 36,
   "metadata": {},
   "outputs": [
    {
     "name": "stdout",
     "output_type": "stream",
     "text": [
      "y_test already in original form.\n",
      "0.8968409845995705 0.8962726658175457\n"
     ]
    }
   ],
   "source": [
    "y_pred = neighbor.predict(X_test)\n",
    "try:\n",
    "  y_test = lb.inverse_transform(y_test)\n",
    "except np.AxisError:\n",
    "  print(\"y_test already in original form.\")\n",
    "y_pred = lb.inverse_transform(y_pred)\n",
    "\n",
    "acc = metrics.accuracy_score(y_test, y_pred)\n",
    "f1_score = metrics.f1_score(y_test, y_pred, average='weighted')\n",
    "print(acc, f1_score)"
   ]
  },
  {
   "cell_type": "code",
   "execution_count": 37,
   "metadata": {},
   "outputs": [
    {
     "data": {
      "text/html": [
       "<div>\n",
       "<style scoped>\n",
       "    .dataframe tbody tr th:only-of-type {\n",
       "        vertical-align: middle;\n",
       "    }\n",
       "\n",
       "    .dataframe tbody tr th {\n",
       "        vertical-align: top;\n",
       "    }\n",
       "\n",
       "    .dataframe thead th {\n",
       "        text-align: right;\n",
       "    }\n",
       "</style>\n",
       "<table border=\"1\" class=\"dataframe\">\n",
       "  <thead>\n",
       "    <tr style=\"text-align: right;\">\n",
       "      <th></th>\n",
       "      <th>Argus PT</th>\n",
       "      <th>HomeBase2</th>\n",
       "      <th>NoLabel</th>\n",
       "      <th>Spotlight Cam</th>\n",
       "      <th>accuracy</th>\n",
       "      <th>macro avg</th>\n",
       "      <th>weighted avg</th>\n",
       "    </tr>\n",
       "  </thead>\n",
       "  <tbody>\n",
       "    <tr>\n",
       "      <th>precision</th>\n",
       "      <td>0.921382</td>\n",
       "      <td>0.851826</td>\n",
       "      <td>0.883109</td>\n",
       "      <td>0.939722</td>\n",
       "      <td>0.896841</td>\n",
       "      <td>0.899010</td>\n",
       "      <td>0.899109</td>\n",
       "    </tr>\n",
       "    <tr>\n",
       "      <th>recall</th>\n",
       "      <td>0.914952</td>\n",
       "      <td>0.979379</td>\n",
       "      <td>0.822674</td>\n",
       "      <td>0.870626</td>\n",
       "      <td>0.896841</td>\n",
       "      <td>0.896908</td>\n",
       "      <td>0.896841</td>\n",
       "    </tr>\n",
       "    <tr>\n",
       "      <th>f1-score</th>\n",
       "      <td>0.918156</td>\n",
       "      <td>0.911160</td>\n",
       "      <td>0.851821</td>\n",
       "      <td>0.903855</td>\n",
       "      <td>0.896841</td>\n",
       "      <td>0.896248</td>\n",
       "      <td>0.896273</td>\n",
       "    </tr>\n",
       "    <tr>\n",
       "      <th>support</th>\n",
       "      <td>13757.000000</td>\n",
       "      <td>13530.000000</td>\n",
       "      <td>13619.000000</td>\n",
       "      <td>13573.000000</td>\n",
       "      <td>0.896841</td>\n",
       "      <td>54479.000000</td>\n",
       "      <td>54479.000000</td>\n",
       "    </tr>\n",
       "  </tbody>\n",
       "</table>\n",
       "</div>"
      ],
      "text/plain": [
       "               Argus PT     HomeBase2       NoLabel  Spotlight Cam  accuracy  \\\n",
       "precision      0.921382      0.851826      0.883109       0.939722  0.896841   \n",
       "recall         0.914952      0.979379      0.822674       0.870626  0.896841   \n",
       "f1-score       0.918156      0.911160      0.851821       0.903855  0.896841   \n",
       "support    13757.000000  13530.000000  13619.000000   13573.000000  0.896841   \n",
       "\n",
       "              macro avg  weighted avg  \n",
       "precision      0.899010      0.899109  \n",
       "recall         0.896908      0.896841  \n",
       "f1-score       0.896248      0.896273  \n",
       "support    54479.000000  54479.000000  "
      ]
     },
     "execution_count": 37,
     "metadata": {},
     "output_type": "execute_result"
    }
   ],
   "source": [
    "neighbor_df = pd.DataFrame(metrics.classification_report(y_test, y_pred, target_names=lb.classes_, output_dict=True))\n",
    "neighbor_df"
   ]
  },
  {
   "cell_type": "code",
   "execution_count": 38,
   "metadata": {},
   "outputs": [
    {
     "name": "stdout",
     "output_type": "stream",
     "text": [
      "Argus PT: 13757\n",
      "HomeBase2: 13530\n",
      "NoLabel: 13619\n",
      "Spotlight Cam: 13573\n"
     ]
    }
   ],
   "source": [
    "labels, counts = np.unique(y_test, return_counts=True)\n",
    "for label, count_ in zip(labels, counts):\n",
    "  print(f\"{label}: {count_}\")"
   ]
  },
  {
   "cell_type": "code",
   "execution_count": 39,
   "metadata": {},
   "outputs": [
    {
     "data": {
      "image/png": "[encoded data removed]",
      "text/plain": [
       "<Figure size 432x288 with 2 Axes>"
      ]
     },
     "metadata": {
      "needs_background": "light"
     },
     "output_type": "display_data"
    }
   ],
   "source": [
    "cm_display = metrics.ConfusionMatrixDisplay.from_predictions(y_true=y_test, y_pred=y_pred, xticks_rotation='vertical', cmap='Greens')"
   ]
  },
  {
   "cell_type": "markdown",
   "metadata": {},
   "source": [
    "### Machine"
   ]
  },
  {
   "cell_type": "code",
   "execution_count": 40,
   "metadata": {},
   "outputs": [
    {
     "name": "stdout",
     "output_type": "stream",
     "text": [
      "y_test already in original form.\n",
      "0.2788230327282072 0.19607098554045596\n"
     ]
    }
   ],
   "source": [
    "y_pred = machine.predict(X_test)\n",
    "try:\n",
    "  y_test = lb.inverse_transform(y_test)\n",
    "except np.AxisError:\n",
    "  print(\"y_test already in original form.\")\n",
    "y_pred = lb.inverse_transform(y_pred)\n",
    "\n",
    "acc = metrics.accuracy_score(y_test, y_pred)\n",
    "f1_score = metrics.f1_score(y_test, y_pred, average='weighted')\n",
    "print(acc, f1_score)"
   ]
  },
  {
   "cell_type": "code",
   "execution_count": 44,
   "metadata": {},
   "outputs": [
    {
     "data": {
      "text/html": [
       "<div>\n",
       "<style scoped>\n",
       "    .dataframe tbody tr th:only-of-type {\n",
       "        vertical-align: middle;\n",
       "    }\n",
       "\n",
       "    .dataframe tbody tr th {\n",
       "        vertical-align: top;\n",
       "    }\n",
       "\n",
       "    .dataframe thead th {\n",
       "        text-align: right;\n",
       "    }\n",
       "</style>\n",
       "<table border=\"1\" class=\"dataframe\">\n",
       "  <thead>\n",
       "    <tr style=\"text-align: right;\">\n",
       "      <th></th>\n",
       "      <th>Argus PT</th>\n",
       "      <th>HomeBase2</th>\n",
       "      <th>NoLabel</th>\n",
       "      <th>Spotlight Cam</th>\n",
       "      <th>accuracy</th>\n",
       "      <th>macro avg</th>\n",
       "      <th>weighted avg</th>\n",
       "    </tr>\n",
       "  </thead>\n",
       "  <tbody>\n",
       "    <tr>\n",
       "      <th>precision</th>\n",
       "      <td>0.305898</td>\n",
       "      <td>0.482353</td>\n",
       "      <td>1.0</td>\n",
       "      <td>0.142181</td>\n",
       "      <td>0.278823</td>\n",
       "      <td>0.482608</td>\n",
       "      <td>0.482448</td>\n",
       "    </tr>\n",
       "    <tr>\n",
       "      <th>recall</th>\n",
       "      <td>0.853965</td>\n",
       "      <td>0.121212</td>\n",
       "      <td>0.0</td>\n",
       "      <td>0.132764</td>\n",
       "      <td>0.278823</td>\n",
       "      <td>0.276985</td>\n",
       "      <td>0.278823</td>\n",
       "    </tr>\n",
       "    <tr>\n",
       "      <th>f1-score</th>\n",
       "      <td>0.450443</td>\n",
       "      <td>0.193739</td>\n",
       "      <td>0.0</td>\n",
       "      <td>0.137311</td>\n",
       "      <td>0.278823</td>\n",
       "      <td>0.195373</td>\n",
       "      <td>0.196071</td>\n",
       "    </tr>\n",
       "    <tr>\n",
       "      <th>support</th>\n",
       "      <td>13757.000000</td>\n",
       "      <td>13530.000000</td>\n",
       "      <td>13619.0</td>\n",
       "      <td>13573.000000</td>\n",
       "      <td>0.278823</td>\n",
       "      <td>54479.000000</td>\n",
       "      <td>54479.000000</td>\n",
       "    </tr>\n",
       "  </tbody>\n",
       "</table>\n",
       "</div>"
      ],
      "text/plain": [
       "               Argus PT     HomeBase2  NoLabel  Spotlight Cam  accuracy  \\\n",
       "precision      0.305898      0.482353      1.0       0.142181  0.278823   \n",
       "recall         0.853965      0.121212      0.0       0.132764  0.278823   \n",
       "f1-score       0.450443      0.193739      0.0       0.137311  0.278823   \n",
       "support    13757.000000  13530.000000  13619.0   13573.000000  0.278823   \n",
       "\n",
       "              macro avg  weighted avg  \n",
       "precision      0.482608      0.482448  \n",
       "recall         0.276985      0.278823  \n",
       "f1-score       0.195373      0.196071  \n",
       "support    54479.000000  54479.000000  "
      ]
     },
     "execution_count": 44,
     "metadata": {},
     "output_type": "execute_result"
    }
   ],
   "source": [
    "machine_df = pd.DataFrame(metrics.classification_report(y_test, y_pred, target_names=lb.classes_, output_dict=True, zero_division=1))\n",
    "machine_df"
   ]
  },
  {
   "cell_type": "code",
   "execution_count": 42,
   "metadata": {},
   "outputs": [
    {
     "name": "stdout",
     "output_type": "stream",
     "text": [
      "Argus PT: 13757\n",
      "HomeBase2: 13530\n",
      "NoLabel: 13619\n",
      "Spotlight Cam: 13573\n"
     ]
    }
   ],
   "source": [
    "labels, counts = np.unique(y_test, return_counts=True)\n",
    "for label, count_ in zip(labels, counts):\n",
    "  print(f\"{label}: {count_}\")"
   ]
  },
  {
   "cell_type": "code",
   "execution_count": 43,
   "metadata": {},
   "outputs": [
    {
     "data": {
      "image/png": "[encoded data removed]",
      "text/plain": [
       "<Figure size 432x288 with 2 Axes>"
      ]
     },
     "metadata": {
      "needs_background": "light"
     },
     "output_type": "display_data"
    }
   ],
   "source": [
    "cm_display = metrics.ConfusionMatrixDisplay.from_predictions(y_true=y_test, y_pred=y_pred, xticks_rotation='vertical', cmap='Greens')"
   ]
  }
 ],
 "metadata": {
  "interpreter": {
   "hash": "6c7d08cabbce82a9fd531115537a9aab4848f0bcec864444fe962b25475eaf1e"
  },
  "kernelspec": {
   "display_name": "Python 3.8.12 ('thesis')",
   "language": "python",
   "name": "python3"
  },
  "language_info": {
   "codemirror_mode": {
    "name": "ipython",
    "version": 3
   },
   "file_extension": ".py",
   "mimetype": "text/x-python",
   "name": "python",
   "nbconvert_exporter": "python",
   "pygments_lexer": "ipython3",
   "version": "3.8.12"
  },
  "orig_nbformat": 4
 },
 "nbformat": 4,
 "nbformat_minor": 2
}
