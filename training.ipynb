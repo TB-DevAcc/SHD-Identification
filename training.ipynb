{
 "cells": [
  {
   "cell_type": "code",
   "execution_count": 1,
   "metadata": {},
   "outputs": [],
   "source": [
    "import pandas as pd\n",
    "import numpy as np"
   ]
  },
  {
   "cell_type": "code",
   "execution_count": 2,
   "metadata": {},
   "outputs": [],
   "source": [
    "df1 = pd.read_pickle(\"data/doh_merged_2.pkl\")\n",
    "df2 = pd.read_pickle(\"data/AmazonRing/ring_merged.pkl\")\n",
    "df3 = pd.read_pickle(\"data/Reolink/reo_merged.pkl\")\n",
    "df4 = pd.read_pickle(\"data/Telekom/telekom_magenta_homebase2.pkl\")"
   ]
  },
  {
   "cell_type": "markdown",
   "metadata": {},
   "source": [
    "#### Over/Undersampling dataset"
   ]
  },
  {
   "cell_type": "code",
   "execution_count": 3,
   "metadata": {},
   "outputs": [],
   "source": [
    "# Shorten label names\n",
    "df1['label'] = \"NoLabel\"\n",
    "df2['label'] = \"Spotlight Cam\"\n",
    "df3['label'] = \"Argus PT\"\n",
    "df4['label'] = \"HomeBase2\""
   ]
  },
  {
   "cell_type": "code",
   "execution_count": 4,
   "metadata": {},
   "outputs": [
    {
     "name": "stdout",
     "output_type": "stream",
     "text": [
      "NoLabel 2759326\n",
      "Spotlight Cam 146591\n",
      "Argus PT 34049\n",
      "HomeBase2 3292\n"
     ]
    }
   ],
   "source": [
    "sampling_before = {}\n",
    "for df in [df1, df2, df3, df4]:\n",
    "  print(df.iloc[0]['label'], len(df))\n",
    "  sampling_before[df.iloc[0]['label']] = len(df)"
   ]
  },
  {
   "cell_type": "code",
   "execution_count": 5,
   "metadata": {},
   "outputs": [],
   "source": [
    "n = 34049 # Number of Reolink Argus PT rows\n",
    "\n",
    "df1 = df1.sample(n=n, replace=False)\n",
    "df2 = df2.sample(n=n, replace=False)\n",
    "df3 = df3.sample(n=n, replace=False)\n",
    "df4 = df4.sample(n=n, replace=True)\n"
   ]
  },
  {
   "cell_type": "code",
   "execution_count": 6,
   "metadata": {},
   "outputs": [
    {
     "name": "stdout",
     "output_type": "stream",
     "text": [
      "NoLabel 34049\n",
      "Spotlight Cam 34049\n",
      "Argus PT 34049\n",
      "HomeBase2 34049\n"
     ]
    }
   ],
   "source": [
    "sampling_after = {}\n",
    "for df in [df1, df2, df3, df4]:\n",
    "  print(df.iloc[0]['label'], len(df))\n",
    "  sampling_after[df.iloc[0]['label']] = len(df)"
   ]
  },
  {
   "cell_type": "code",
   "execution_count": 7,
   "metadata": {},
   "outputs": [
    {
     "data": {
      "application/vnd.plotly.v1+json": {
       "config": {
        "plotlyServerURL": "https://plot.ly"
       },
       "data": [
        {
         "name": "Before Under-/Over-sampling",
         "text": [
          "2759326",
          "146591",
          "34049",
          "3292"
         ],
         "type": "bar",
         "x": [
          "NoLabel",
          "Spotlight Cam",
          "Argus PT",
          "HomeBase2"
         ],
         "xaxis": "x",
         "y": [
          2759326,
          146591,
          34049,
          3292
         ],
         "yaxis": "y"
        },
        {
         "name": "After Under-/Over-sampling",
         "text": [
          "34049",
          "34049",
          "34049",
          "34049"
         ],
         "type": "bar",
         "x": [
          "NoLabel",
          "Spotlight Cam",
          "Argus PT",
          "HomeBase2"
         ],
         "xaxis": "x2",
         "y": [
          34049,
          34049,
          34049,
          34049
         ],
         "yaxis": "y2"
        }
       ],
       "layout": {
        "height": 300,
        "legend": {
         "orientation": "h",
         "x": 0,
         "xanchor": "left",
         "y": 1.02,
         "yanchor": "bottom"
        },
        "margin": {
         "b": 10,
         "t": 10
        },
        "template": {
         "data": {
          "bar": [
           {
            "error_x": {
             "color": "#2a3f5f"
            },
            "error_y": {
             "color": "#2a3f5f"
            },
            "marker": {
             "line": {
              "color": "#E5ECF6",
              "width": 0.5
             },
             "pattern": {
              "fillmode": "overlay",
              "size": 10,
              "solidity": 0.2
             }
            },
            "type": "bar"
           }
          ],
          "barpolar": [
           {
            "marker": {
             "line": {
              "color": "#E5ECF6",
              "width": 0.5
             },
             "pattern": {
              "fillmode": "overlay",
              "size": 10,
              "solidity": 0.2
             }
            },
            "type": "barpolar"
           }
          ],
          "carpet": [
           {
            "aaxis": {
             "endlinecolor": "#2a3f5f",
             "gridcolor": "white",
             "linecolor": "white",
             "minorgridcolor": "white",
             "startlinecolor": "#2a3f5f"
            },
            "baxis": {
             "endlinecolor": "#2a3f5f",
             "gridcolor": "white",
             "linecolor": "white",
             "minorgridcolor": "white",
             "startlinecolor": "#2a3f5f"
            },
            "type": "carpet"
           }
          ],
          "choropleth": [
           {
            "colorbar": {
             "outlinewidth": 0,
             "ticks": ""
            },
            "type": "choropleth"
           }
          ],
          "contour": [
           {
            "colorbar": {
             "outlinewidth": 0,
             "ticks": ""
            },
            "colorscale": [
             [
              0,
              "#0d0887"
             ],
             [
              0.1111111111111111,
              "#46039f"
             ],
             [
              0.2222222222222222,
              "#7201a8"
             ],
             [
              0.3333333333333333,
              "#9c179e"
             ],
             [
              0.4444444444444444,
              "#bd3786"
             ],
             [
              0.5555555555555556,
              "#d8576b"
             ],
             [
              0.6666666666666666,
              "#ed7953"
             ],
             [
              0.7777777777777778,
              "#fb9f3a"
             ],
             [
              0.8888888888888888,
              "#fdca26"
             ],
             [
              1,
              "#f0f921"
             ]
            ],
            "type": "contour"
           }
          ],
          "contourcarpet": [
           {
            "colorbar": {
             "outlinewidth": 0,
             "ticks": ""
            },
            "type": "contourcarpet"
           }
          ],
          "heatmap": [
           {
            "colorbar": {
             "outlinewidth": 0,
             "ticks": ""
            },
            "colorscale": [
             [
              0,
              "#0d0887"
             ],
             [
              0.1111111111111111,
              "#46039f"
             ],
             [
              0.2222222222222222,
              "#7201a8"
             ],
             [
              0.3333333333333333,
              "#9c179e"
             ],
             [
              0.4444444444444444,
              "#bd3786"
             ],
             [
              0.5555555555555556,
              "#d8576b"
             ],
             [
              0.6666666666666666,
              "#ed7953"
             ],
             [
              0.7777777777777778,
              "#fb9f3a"
             ],
             [
              0.8888888888888888,
              "#fdca26"
             ],
             [
              1,
              "#f0f921"
             ]
            ],
            "type": "heatmap"
           }
          ],
          "heatmapgl": [
           {
            "colorbar": {
             "outlinewidth": 0,
             "ticks": ""
            },
            "colorscale": [
             [
              0,
              "#0d0887"
             ],
             [
              0.1111111111111111,
              "#46039f"
             ],
             [
              0.2222222222222222,
              "#7201a8"
             ],
             [
              0.3333333333333333,
              "#9c179e"
             ],
             [
              0.4444444444444444,
              "#bd3786"
             ],
             [
              0.5555555555555556,
              "#d8576b"
             ],
             [
              0.6666666666666666,
              "#ed7953"
             ],
             [
              0.7777777777777778,
              "#fb9f3a"
             ],
             [
              0.8888888888888888,
              "#fdca26"
             ],
             [
              1,
              "#f0f921"
             ]
            ],
            "type": "heatmapgl"
           }
          ],
          "histogram": [
           {
            "marker": {
             "pattern": {
              "fillmode": "overlay",
              "size": 10,
              "solidity": 0.2
             }
            },
            "type": "histogram"
           }
          ],
          "histogram2d": [
           {
            "colorbar": {
             "outlinewidth": 0,
             "ticks": ""
            },
            "colorscale": [
             [
              0,
              "#0d0887"
             ],
             [
              0.1111111111111111,
              "#46039f"
             ],
             [
              0.2222222222222222,
              "#7201a8"
             ],
             [
              0.3333333333333333,
              "#9c179e"
             ],
             [
              0.4444444444444444,
              "#bd3786"
             ],
             [
              0.5555555555555556,
              "#d8576b"
             ],
             [
              0.6666666666666666,
              "#ed7953"
             ],
             [
              0.7777777777777778,
              "#fb9f3a"
             ],
             [
              0.8888888888888888,
              "#fdca26"
             ],
             [
              1,
              "#f0f921"
             ]
            ],
            "type": "histogram2d"
           }
          ],
          "histogram2dcontour": [
           {
            "colorbar": {
             "outlinewidth": 0,
             "ticks": ""
            },
            "colorscale": [
             [
              0,
              "#0d0887"
             ],
             [
              0.1111111111111111,
              "#46039f"
             ],
             [
              0.2222222222222222,
              "#7201a8"
             ],
             [
              0.3333333333333333,
              "#9c179e"
             ],
             [
              0.4444444444444444,
              "#bd3786"
             ],
             [
              0.5555555555555556,
              "#d8576b"
             ],
             [
              0.6666666666666666,
              "#ed7953"
             ],
             [
              0.7777777777777778,
              "#fb9f3a"
             ],
             [
              0.8888888888888888,
              "#fdca26"
             ],
             [
              1,
              "#f0f921"
             ]
            ],
            "type": "histogram2dcontour"
           }
          ],
          "mesh3d": [
           {
            "colorbar": {
             "outlinewidth": 0,
             "ticks": ""
            },
            "type": "mesh3d"
           }
          ],
          "parcoords": [
           {
            "line": {
             "colorbar": {
              "outlinewidth": 0,
              "ticks": ""
             }
            },
            "type": "parcoords"
           }
          ],
          "pie": [
           {
            "automargin": true,
            "type": "pie"
           }
          ],
          "scatter": [
           {
            "marker": {
             "colorbar": {
              "outlinewidth": 0,
              "ticks": ""
             }
            },
            "type": "scatter"
           }
          ],
          "scatter3d": [
           {
            "line": {
             "colorbar": {
              "outlinewidth": 0,
              "ticks": ""
             }
            },
            "marker": {
             "colorbar": {
              "outlinewidth": 0,
              "ticks": ""
             }
            },
            "type": "scatter3d"
           }
          ],
          "scattercarpet": [
           {
            "marker": {
             "colorbar": {
              "outlinewidth": 0,
              "ticks": ""
             }
            },
            "type": "scattercarpet"
           }
          ],
          "scattergeo": [
           {
            "marker": {
             "colorbar": {
              "outlinewidth": 0,
              "ticks": ""
             }
            },
            "type": "scattergeo"
           }
          ],
          "scattergl": [
           {
            "marker": {
             "colorbar": {
              "outlinewidth": 0,
              "ticks": ""
             }
            },
            "type": "scattergl"
           }
          ],
          "scattermapbox": [
           {
            "marker": {
             "colorbar": {
              "outlinewidth": 0,
              "ticks": ""
             }
            },
            "type": "scattermapbox"
           }
          ],
          "scatterpolar": [
           {
            "marker": {
             "colorbar": {
              "outlinewidth": 0,
              "ticks": ""
             }
            },
            "type": "scatterpolar"
           }
          ],
          "scatterpolargl": [
           {
            "marker": {
             "colorbar": {
              "outlinewidth": 0,
              "ticks": ""
             }
            },
            "type": "scatterpolargl"
           }
          ],
          "scatterternary": [
           {
            "marker": {
             "colorbar": {
              "outlinewidth": 0,
              "ticks": ""
             }
            },
            "type": "scatterternary"
           }
          ],
          "surface": [
           {
            "colorbar": {
             "outlinewidth": 0,
             "ticks": ""
            },
            "colorscale": [
             [
              0,
              "#0d0887"
             ],
             [
              0.1111111111111111,
              "#46039f"
             ],
             [
              0.2222222222222222,
              "#7201a8"
             ],
             [
              0.3333333333333333,
              "#9c179e"
             ],
             [
              0.4444444444444444,
              "#bd3786"
             ],
             [
              0.5555555555555556,
              "#d8576b"
             ],
             [
              0.6666666666666666,
              "#ed7953"
             ],
             [
              0.7777777777777778,
              "#fb9f3a"
             ],
             [
              0.8888888888888888,
              "#fdca26"
             ],
             [
              1,
              "#f0f921"
             ]
            ],
            "type": "surface"
           }
          ],
          "table": [
           {
            "cells": {
             "fill": {
              "color": "#EBF0F8"
             },
             "line": {
              "color": "white"
             }
            },
            "header": {
             "fill": {
              "color": "#C8D4E3"
             },
             "line": {
              "color": "white"
             }
            },
            "type": "table"
           }
          ]
         },
         "layout": {
          "annotationdefaults": {
           "arrowcolor": "#2a3f5f",
           "arrowhead": 0,
           "arrowwidth": 1
          },
          "autotypenumbers": "strict",
          "coloraxis": {
           "colorbar": {
            "outlinewidth": 0,
            "ticks": ""
           }
          },
          "colorscale": {
           "diverging": [
            [
             0,
             "#8e0152"
            ],
            [
             0.1,
             "#c51b7d"
            ],
            [
             0.2,
             "#de77ae"
            ],
            [
             0.3,
             "#f1b6da"
            ],
            [
             0.4,
             "#fde0ef"
            ],
            [
             0.5,
             "#f7f7f7"
            ],
            [
             0.6,
             "#e6f5d0"
            ],
            [
             0.7,
             "#b8e186"
            ],
            [
             0.8,
             "#7fbc41"
            ],
            [
             0.9,
             "#4d9221"
            ],
            [
             1,
             "#276419"
            ]
           ],
           "sequential": [
            [
             0,
             "#0d0887"
            ],
            [
             0.1111111111111111,
             "#46039f"
            ],
            [
             0.2222222222222222,
             "#7201a8"
            ],
            [
             0.3333333333333333,
             "#9c179e"
            ],
            [
             0.4444444444444444,
             "#bd3786"
            ],
            [
             0.5555555555555556,
             "#d8576b"
            ],
            [
             0.6666666666666666,
             "#ed7953"
            ],
            [
             0.7777777777777778,
             "#fb9f3a"
            ],
            [
             0.8888888888888888,
             "#fdca26"
            ],
            [
             1,
             "#f0f921"
            ]
           ],
           "sequentialminus": [
            [
             0,
             "#0d0887"
            ],
            [
             0.1111111111111111,
             "#46039f"
            ],
            [
             0.2222222222222222,
             "#7201a8"
            ],
            [
             0.3333333333333333,
             "#9c179e"
            ],
            [
             0.4444444444444444,
             "#bd3786"
            ],
            [
             0.5555555555555556,
             "#d8576b"
            ],
            [
             0.6666666666666666,
             "#ed7953"
            ],
            [
             0.7777777777777778,
             "#fb9f3a"
            ],
            [
             0.8888888888888888,
             "#fdca26"
            ],
            [
             1,
             "#f0f921"
            ]
           ]
          },
          "colorway": [
           "#636efa",
           "#EF553B",
           "#00cc96",
           "#ab63fa",
           "#FFA15A",
           "#19d3f3",
           "#FF6692",
           "#B6E880",
           "#FF97FF",
           "#FECB52"
          ],
          "font": {
           "color": "#2a3f5f"
          },
          "geo": {
           "bgcolor": "white",
           "lakecolor": "white",
           "landcolor": "#E5ECF6",
           "showlakes": true,
           "showland": true,
           "subunitcolor": "white"
          },
          "hoverlabel": {
           "align": "left"
          },
          "hovermode": "closest",
          "mapbox": {
           "style": "light"
          },
          "paper_bgcolor": "white",
          "plot_bgcolor": "#E5ECF6",
          "polar": {
           "angularaxis": {
            "gridcolor": "white",
            "linecolor": "white",
            "ticks": ""
           },
           "bgcolor": "#E5ECF6",
           "radialaxis": {
            "gridcolor": "white",
            "linecolor": "white",
            "ticks": ""
           }
          },
          "scene": {
           "xaxis": {
            "backgroundcolor": "#E5ECF6",
            "gridcolor": "white",
            "gridwidth": 2,
            "linecolor": "white",
            "showbackground": true,
            "ticks": "",
            "zerolinecolor": "white"
           },
           "yaxis": {
            "backgroundcolor": "#E5ECF6",
            "gridcolor": "white",
            "gridwidth": 2,
            "linecolor": "white",
            "showbackground": true,
            "ticks": "",
            "zerolinecolor": "white"
           },
           "zaxis": {
            "backgroundcolor": "#E5ECF6",
            "gridcolor": "white",
            "gridwidth": 2,
            "linecolor": "white",
            "showbackground": true,
            "ticks": "",
            "zerolinecolor": "white"
           }
          },
          "shapedefaults": {
           "line": {
            "color": "#2a3f5f"
           }
          },
          "ternary": {
           "aaxis": {
            "gridcolor": "white",
            "linecolor": "white",
            "ticks": ""
           },
           "baxis": {
            "gridcolor": "white",
            "linecolor": "white",
            "ticks": ""
           },
           "bgcolor": "#E5ECF6",
           "caxis": {
            "gridcolor": "white",
            "linecolor": "white",
            "ticks": ""
           }
          },
          "title": {
           "x": 0.05
          },
          "xaxis": {
           "automargin": true,
           "gridcolor": "white",
           "linecolor": "white",
           "ticks": "",
           "title": {
            "standoff": 15
           },
           "zerolinecolor": "white",
           "zerolinewidth": 2
          },
          "yaxis": {
           "automargin": true,
           "gridcolor": "white",
           "linecolor": "white",
           "ticks": "",
           "title": {
            "standoff": 15
           },
           "zerolinecolor": "white",
           "zerolinewidth": 2
          }
         }
        },
        "width": 900,
        "xaxis": {
         "anchor": "y",
         "domain": [
          0,
          0.45
         ]
        },
        "xaxis2": {
         "anchor": "y2",
         "domain": [
          0.55,
          1
         ]
        },
        "yaxis": {
         "anchor": "x",
         "domain": [
          0,
          1
         ],
         "title": {
          "text": "Number of packets"
         },
         "type": "log"
        },
        "yaxis2": {
         "anchor": "x2",
         "domain": [
          0,
          1
         ],
         "matches": "y",
         "showticklabels": false,
         "type": "log"
        }
       }
      }
     },
     "metadata": {},
     "output_type": "display_data"
    }
   ],
   "source": [
    "from plotly.subplots import make_subplots\n",
    "import plotly.graph_objects as go\n",
    "\n",
    "fig = make_subplots(rows=1, cols=2, shared_yaxes=True)\n",
    "\n",
    "trace1 = fig.add_trace(\n",
    "    go.Bar(\n",
    "      x=list(sampling_before.keys()),\n",
    "      y=list(sampling_before.values()),\n",
    "      name=\"Before Under-/Over-sampling\",\n",
    "      text=list(sampling_before.values())\n",
    "      ),\n",
    "    row=1, col=1\n",
    ")\n",
    "\n",
    "trace2 = fig.add_trace(\n",
    "    go.Bar(x=list(sampling_after.keys()), y=list(sampling_after.values()), name=\"After Under-/Over-sampling\",text=list(sampling_after.values())),\n",
    "    row=1, col=2\n",
    ")\n",
    "\n",
    "# fig.update_traces(textposition='top')\n",
    "fig.update_yaxes(type=\"log\")\n",
    "fig.update_layout(\n",
    "  height=300, \n",
    "  width=900, \n",
    "  yaxis_title=\"Number of packets\",\n",
    "  # title_text=\"Size of label groups in dataset\",\n",
    "  # paper_bgcolor='rgba(0,0,0,0)',\n",
    "  # plot_bgcolor='rgba(0,0,0,0)'\n",
    "  )\n",
    "fig.update_layout(\n",
    "  legend=dict(\n",
    "    orientation=\"h\",\n",
    "    yanchor=\"bottom\",\n",
    "    y=1.02,\n",
    "    xanchor=\"left\",\n",
    "    x=0\n",
    "    )\n",
    "  )\n",
    "fig.update_layout(margin=dict(t=10, b=10))\n",
    "fig.show()\n",
    "fig.write_image(\"assets/sampling.pdf\")"
   ]
  },
  {
   "cell_type": "code",
   "execution_count": 8,
   "metadata": {},
   "outputs": [],
   "source": [
    "df = pd.concat([df1, df2, df3, df4], ignore_index=True)"
   ]
  },
  {
   "cell_type": "code",
   "execution_count": 9,
   "metadata": {},
   "outputs": [
    {
     "data": {
      "text/plain": [
       "Index(['time', 'payload', 'IP_version', 'IP_ihl', 'IP_tos', 'IP_len', 'IP_id',\n",
       "       'IP_flags', 'IP_frag', 'IP_ttl', 'IP_proto', 'IP_chksum', 'IP_src',\n",
       "       'IP_dst', 'TCP_sport', 'TCP_dport', 'TCP_seq', 'TCP_ack', 'TCP_dataofs',\n",
       "       'TCP_reserved', 'TCP_flags', 'TCP_window', 'TCP_chksum', 'TCP_urgptr',\n",
       "       'UDP_sport', 'UDP_dport', 'UDP_len', 'UDP_chksum', 'Raw_load',\n",
       "       'IP_int_arr_time', 'IP_Burst_ix', 'IP_Burst_length',\n",
       "       'IP_Burst_avg_size', 'label'],\n",
       "      dtype='object')"
      ]
     },
     "execution_count": 9,
     "metadata": {},
     "output_type": "execute_result"
    }
   ],
   "source": [
    "df.columns"
   ]
  },
  {
   "cell_type": "code",
   "execution_count": 10,
   "metadata": {},
   "outputs": [],
   "source": [
    "import datetime\n",
    "\n",
    "df['IP_version'] = df['IP_version'].astype(\"string\")\n",
    "df['label'] = df['label'].astype(\"string\")\n",
    "na_values = {\n",
    "  # \"time\": 0,\n",
    "  \"payload\": \"NoPayload\",\n",
    "  \"IP_version\": \"0\",\n",
    "  \"IP_ihl\": 0,\n",
    "  \"IP_tos\": 0,\n",
    "  \"IP_len\": 0,\n",
    "  \"IP_id\": 0,\n",
    "  \"IP_flags\": 0,\n",
    "  \"IP_frag\": 0,\n",
    "  \"IP_ttl\": 0,\n",
    "  \"IP_proto\": 0,\n",
    "  \"IP_chksum\": 0,\n",
    "  \"IP_src\": \"0\",\n",
    "  \"IP_dst\": \"0\",\n",
    "  \"TCP_sport\": \"0\",\n",
    "  \"TCP_dport\": \"0\",\n",
    "  \"TCP_seq\": 0,\n",
    "  \"TCP_ack\": 0,\n",
    "  \"TCP_dataofs\": 0,\n",
    "  \"TCP_reserved\": 0,\n",
    "  \"TCP_flags\": 0,\n",
    "  \"TCP_window\": 0,\n",
    "  \"TCP_chksum\": 0,\n",
    "  \"TCP_urgptr\": 0,\n",
    "  \"UDP_sport\": \"0\",\n",
    "  \"UDP_dport\": \"0\",\n",
    "  \"UDP_len\": 0,\n",
    "  \"UDP_chksum\": 0,\n",
    "  \"Raw_load\": 0,\n",
    "  'IP_int_arr_time': datetime.timedelta(seconds=0), \n",
    "  'IP_Burst_ix': 0, \n",
    "  'IP_Burst_length': 0,\n",
    "  'IP_Burst_avg_size': 0,\n",
    "  \"label\": \"NoLabel\",\n",
    "}\n",
    "\n",
    "df.fillna(value=na_values, inplace=True)"
   ]
  },
  {
   "cell_type": "code",
   "execution_count": 11,
   "metadata": {},
   "outputs": [
    {
     "name": "stdout",
     "output_type": "stream",
     "text": [
      "time NA 0 out of 136196\n",
      "payload NA 0 out of 136196\n",
      "IP_version NA 0 out of 136196\n",
      "IP_ihl NA 0 out of 136196\n",
      "IP_tos NA 0 out of 136196\n",
      "IP_len NA 0 out of 136196\n",
      "IP_id NA 0 out of 136196\n",
      "IP_flags NA 0 out of 136196\n",
      "IP_frag NA 0 out of 136196\n",
      "IP_ttl NA 0 out of 136196\n",
      "IP_proto NA 0 out of 136196\n",
      "IP_chksum NA 0 out of 136196\n",
      "IP_src NA 0 out of 136196\n",
      "IP_dst NA 0 out of 136196\n",
      "TCP_sport NA 0 out of 136196\n",
      "TCP_dport NA 0 out of 136196\n",
      "TCP_seq NA 0 out of 136196\n",
      "TCP_ack NA 0 out of 136196\n",
      "TCP_dataofs NA 0 out of 136196\n",
      "TCP_reserved NA 0 out of 136196\n",
      "TCP_flags NA 0 out of 136196\n",
      "TCP_window NA 0 out of 136196\n",
      "TCP_chksum NA 0 out of 136196\n",
      "TCP_urgptr NA 0 out of 136196\n",
      "UDP_sport NA 0 out of 136196\n",
      "UDP_dport NA 0 out of 136196\n",
      "UDP_len NA 0 out of 136196\n",
      "UDP_chksum NA 0 out of 136196\n",
      "Raw_load NA 0 out of 136196\n",
      "IP_int_arr_time NA 0 out of 136196\n",
      "IP_Burst_ix NA 0 out of 136196\n",
      "IP_Burst_length NA 0 out of 136196\n",
      "IP_Burst_avg_size NA 0 out of 136196\n",
      "label NA 0 out of 136196\n"
     ]
    }
   ],
   "source": [
    "for col in df.columns:\n",
    "  print(col, \"NA\", sum(df[col].isna()), \"out of\", len(df[col]))"
   ]
  },
  {
   "cell_type": "code",
   "execution_count": 12,
   "metadata": {},
   "outputs": [],
   "source": [
    "# for col in df.select_dtypes('string').columns:\n",
    "#   df[col] = df[col].astype(\"category\")\n",
    "\n",
    "# for col in df.select_dtypes('category').columns:\n",
    "#   df[col] = df[col].astype(\"string\")"
   ]
  },
  {
   "cell_type": "code",
   "execution_count": 13,
   "metadata": {},
   "outputs": [
    {
     "data": {
      "text/html": [
       "<div>\n",
       "<style scoped>\n",
       "    .dataframe tbody tr th:only-of-type {\n",
       "        vertical-align: middle;\n",
       "    }\n",
       "\n",
       "    .dataframe tbody tr th {\n",
       "        vertical-align: top;\n",
       "    }\n",
       "\n",
       "    .dataframe thead th {\n",
       "        text-align: right;\n",
       "    }\n",
       "</style>\n",
       "<table border=\"1\" class=\"dataframe\">\n",
       "  <thead>\n",
       "    <tr style=\"text-align: right;\">\n",
       "      <th></th>\n",
       "      <th>time</th>\n",
       "      <th>payload</th>\n",
       "      <th>IP_version</th>\n",
       "      <th>IP_ihl</th>\n",
       "      <th>IP_tos</th>\n",
       "      <th>IP_len</th>\n",
       "      <th>IP_id</th>\n",
       "      <th>IP_flags</th>\n",
       "      <th>IP_frag</th>\n",
       "      <th>IP_ttl</th>\n",
       "      <th>...</th>\n",
       "      <th>UDP_sport</th>\n",
       "      <th>UDP_dport</th>\n",
       "      <th>UDP_len</th>\n",
       "      <th>UDP_chksum</th>\n",
       "      <th>Raw_load</th>\n",
       "      <th>IP_int_arr_time</th>\n",
       "      <th>IP_Burst_ix</th>\n",
       "      <th>IP_Burst_length</th>\n",
       "      <th>IP_Burst_avg_size</th>\n",
       "      <th>label</th>\n",
       "    </tr>\n",
       "  </thead>\n",
       "  <tbody>\n",
       "    <tr>\n",
       "      <th>110184</th>\n",
       "      <td>2021-09-02 15:38:47.360977920</td>\n",
       "      <td>NoPayload</td>\n",
       "      <td>4</td>\n",
       "      <td>5</td>\n",
       "      <td>0</td>\n",
       "      <td>40</td>\n",
       "      <td>25951</td>\n",
       "      <td>2</td>\n",
       "      <td>0</td>\n",
       "      <td>52</td>\n",
       "      <td>...</td>\n",
       "      <td>0</td>\n",
       "      <td>0</td>\n",
       "      <td>0</td>\n",
       "      <td>0</td>\n",
       "      <td>1</td>\n",
       "      <td>0 days 00:00:00.001442048</td>\n",
       "      <td>0</td>\n",
       "      <td>0</td>\n",
       "      <td>0.0</td>\n",
       "      <td>HomeBase2</td>\n",
       "    </tr>\n",
       "    <tr>\n",
       "      <th>101748</th>\n",
       "      <td>2021-09-05 09:29:49.851301888</td>\n",
       "      <td>Raw</td>\n",
       "      <td>4</td>\n",
       "      <td>5</td>\n",
       "      <td>0</td>\n",
       "      <td>56</td>\n",
       "      <td>12111</td>\n",
       "      <td>2</td>\n",
       "      <td>0</td>\n",
       "      <td>64</td>\n",
       "      <td>...</td>\n",
       "      <td>22813</td>\n",
       "      <td>43402</td>\n",
       "      <td>36</td>\n",
       "      <td>50594</td>\n",
       "      <td>28</td>\n",
       "      <td>0 days 00:00:00.021372672</td>\n",
       "      <td>0</td>\n",
       "      <td>0</td>\n",
       "      <td>0.0</td>\n",
       "      <td>Argus PT</td>\n",
       "    </tr>\n",
       "    <tr>\n",
       "      <th>128013</th>\n",
       "      <td>2021-09-02 15:36:49.173235968</td>\n",
       "      <td>NoPayload</td>\n",
       "      <td>4</td>\n",
       "      <td>5</td>\n",
       "      <td>0</td>\n",
       "      <td>52</td>\n",
       "      <td>57816</td>\n",
       "      <td>2</td>\n",
       "      <td>0</td>\n",
       "      <td>64</td>\n",
       "      <td>...</td>\n",
       "      <td>0</td>\n",
       "      <td>0</td>\n",
       "      <td>0</td>\n",
       "      <td>0</td>\n",
       "      <td>1</td>\n",
       "      <td>0 days 00:00:00.000325888</td>\n",
       "      <td>0</td>\n",
       "      <td>0</td>\n",
       "      <td>0.0</td>\n",
       "      <td>HomeBase2</td>\n",
       "    </tr>\n",
       "    <tr>\n",
       "      <th>4490</th>\n",
       "      <td>2021-09-26 13:18:05.521449216</td>\n",
       "      <td>NoPayload</td>\n",
       "      <td>4</td>\n",
       "      <td>5</td>\n",
       "      <td>0</td>\n",
       "      <td>52</td>\n",
       "      <td>688</td>\n",
       "      <td>2</td>\n",
       "      <td>0</td>\n",
       "      <td>230</td>\n",
       "      <td>...</td>\n",
       "      <td>0</td>\n",
       "      <td>0</td>\n",
       "      <td>0</td>\n",
       "      <td>0</td>\n",
       "      <td>1</td>\n",
       "      <td>0 days 00:00:00.000093184</td>\n",
       "      <td>0</td>\n",
       "      <td>0</td>\n",
       "      <td>0.0</td>\n",
       "      <td>NoLabel</td>\n",
       "    </tr>\n",
       "    <tr>\n",
       "      <th>54142</th>\n",
       "      <td>2021-09-15 06:42:42.285968128</td>\n",
       "      <td>Raw</td>\n",
       "      <td>4</td>\n",
       "      <td>5</td>\n",
       "      <td>0</td>\n",
       "      <td>1480</td>\n",
       "      <td>8265</td>\n",
       "      <td>0</td>\n",
       "      <td>0</td>\n",
       "      <td>249</td>\n",
       "      <td>...</td>\n",
       "      <td>0</td>\n",
       "      <td>0</td>\n",
       "      <td>0</td>\n",
       "      <td>0</td>\n",
       "      <td>1428</td>\n",
       "      <td>0 days 00:00:00.000439296</td>\n",
       "      <td>370</td>\n",
       "      <td>275</td>\n",
       "      <td>1422.72</td>\n",
       "      <td>Spotlight Cam</td>\n",
       "    </tr>\n",
       "    <tr>\n",
       "      <th>131364</th>\n",
       "      <td>2021-09-02 15:38:36.553911808</td>\n",
       "      <td>Raw</td>\n",
       "      <td>4</td>\n",
       "      <td>5</td>\n",
       "      <td>0</td>\n",
       "      <td>1450</td>\n",
       "      <td>25277</td>\n",
       "      <td>2</td>\n",
       "      <td>0</td>\n",
       "      <td>52</td>\n",
       "      <td>...</td>\n",
       "      <td>0</td>\n",
       "      <td>0</td>\n",
       "      <td>0</td>\n",
       "      <td>0</td>\n",
       "      <td>1410</td>\n",
       "      <td>0 days 00:00:00.000146688</td>\n",
       "      <td>201</td>\n",
       "      <td>1</td>\n",
       "      <td>874.5</td>\n",
       "      <td>HomeBase2</td>\n",
       "    </tr>\n",
       "    <tr>\n",
       "      <th>9836</th>\n",
       "      <td>2021-09-29 19:47:48.206978048</td>\n",
       "      <td>NoPayload</td>\n",
       "      <td>4</td>\n",
       "      <td>5</td>\n",
       "      <td>0</td>\n",
       "      <td>60</td>\n",
       "      <td>15910</td>\n",
       "      <td>2</td>\n",
       "      <td>0</td>\n",
       "      <td>64</td>\n",
       "      <td>...</td>\n",
       "      <td>0</td>\n",
       "      <td>0</td>\n",
       "      <td>0</td>\n",
       "      <td>0</td>\n",
       "      <td>1</td>\n",
       "      <td>0 days 00:00:00.694509824</td>\n",
       "      <td>0</td>\n",
       "      <td>0</td>\n",
       "      <td>0.0</td>\n",
       "      <td>NoLabel</td>\n",
       "    </tr>\n",
       "    <tr>\n",
       "      <th>64411</th>\n",
       "      <td>2021-09-15 06:42:47.206322944</td>\n",
       "      <td>Raw</td>\n",
       "      <td>4</td>\n",
       "      <td>5</td>\n",
       "      <td>0</td>\n",
       "      <td>1480</td>\n",
       "      <td>14343</td>\n",
       "      <td>0</td>\n",
       "      <td>0</td>\n",
       "      <td>249</td>\n",
       "      <td>...</td>\n",
       "      <td>0</td>\n",
       "      <td>0</td>\n",
       "      <td>0</td>\n",
       "      <td>0</td>\n",
       "      <td>1428</td>\n",
       "      <td>0 days 00:00:00.000660992</td>\n",
       "      <td>446</td>\n",
       "      <td>232</td>\n",
       "      <td>1424.89</td>\n",
       "      <td>Spotlight Cam</td>\n",
       "    </tr>\n",
       "    <tr>\n",
       "      <th>65288</th>\n",
       "      <td>2021-07-10 11:56:35.646832128</td>\n",
       "      <td>Raw</td>\n",
       "      <td>4</td>\n",
       "      <td>5</td>\n",
       "      <td>0</td>\n",
       "      <td>641</td>\n",
       "      <td>23679</td>\n",
       "      <td>0</td>\n",
       "      <td>0</td>\n",
       "      <td>49</td>\n",
       "      <td>...</td>\n",
       "      <td>51860</td>\n",
       "      <td>9078</td>\n",
       "      <td>621</td>\n",
       "      <td>26488</td>\n",
       "      <td>613</td>\n",
       "      <td>0 days 00:00:00.008214528</td>\n",
       "      <td>0</td>\n",
       "      <td>0</td>\n",
       "      <td>0.0</td>\n",
       "      <td>Spotlight Cam</td>\n",
       "    </tr>\n",
       "    <tr>\n",
       "      <th>127229</th>\n",
       "      <td>2021-09-02 15:38:55.643543040</td>\n",
       "      <td>Padding</td>\n",
       "      <td>4</td>\n",
       "      <td>5</td>\n",
       "      <td>0</td>\n",
       "      <td>40</td>\n",
       "      <td>39578</td>\n",
       "      <td>2</td>\n",
       "      <td>0</td>\n",
       "      <td>64</td>\n",
       "      <td>...</td>\n",
       "      <td>0</td>\n",
       "      <td>0</td>\n",
       "      <td>0</td>\n",
       "      <td>0</td>\n",
       "      <td>1</td>\n",
       "      <td>0 days 00:00:00.020889088</td>\n",
       "      <td>0</td>\n",
       "      <td>0</td>\n",
       "      <td>0.0</td>\n",
       "      <td>HomeBase2</td>\n",
       "    </tr>\n",
       "  </tbody>\n",
       "</table>\n",
       "<p>10 rows × 34 columns</p>\n",
       "</div>"
      ],
      "text/plain": [
       "                                time    payload IP_version  IP_ihl  IP_tos  \\\n",
       "110184 2021-09-02 15:38:47.360977920  NoPayload          4       5       0   \n",
       "101748 2021-09-05 09:29:49.851301888        Raw          4       5       0   \n",
       "128013 2021-09-02 15:36:49.173235968  NoPayload          4       5       0   \n",
       "4490   2021-09-26 13:18:05.521449216  NoPayload          4       5       0   \n",
       "54142  2021-09-15 06:42:42.285968128        Raw          4       5       0   \n",
       "131364 2021-09-02 15:38:36.553911808        Raw          4       5       0   \n",
       "9836   2021-09-29 19:47:48.206978048  NoPayload          4       5       0   \n",
       "64411  2021-09-15 06:42:47.206322944        Raw          4       5       0   \n",
       "65288  2021-07-10 11:56:35.646832128        Raw          4       5       0   \n",
       "127229 2021-09-02 15:38:55.643543040    Padding          4       5       0   \n",
       "\n",
       "        IP_len  IP_id  IP_flags  IP_frag  IP_ttl  ...  UDP_sport  UDP_dport  \\\n",
       "110184      40  25951         2        0      52  ...          0          0   \n",
       "101748      56  12111         2        0      64  ...      22813      43402   \n",
       "128013      52  57816         2        0      64  ...          0          0   \n",
       "4490        52    688         2        0     230  ...          0          0   \n",
       "54142     1480   8265         0        0     249  ...          0          0   \n",
       "131364    1450  25277         2        0      52  ...          0          0   \n",
       "9836        60  15910         2        0      64  ...          0          0   \n",
       "64411     1480  14343         0        0     249  ...          0          0   \n",
       "65288      641  23679         0        0      49  ...      51860       9078   \n",
       "127229      40  39578         2        0      64  ...          0          0   \n",
       "\n",
       "       UDP_len UDP_chksum Raw_load           IP_int_arr_time  IP_Burst_ix  \\\n",
       "110184       0          0        1 0 days 00:00:00.001442048            0   \n",
       "101748      36      50594       28 0 days 00:00:00.021372672            0   \n",
       "128013       0          0        1 0 days 00:00:00.000325888            0   \n",
       "4490         0          0        1 0 days 00:00:00.000093184            0   \n",
       "54142        0          0     1428 0 days 00:00:00.000439296          370   \n",
       "131364       0          0     1410 0 days 00:00:00.000146688          201   \n",
       "9836         0          0        1 0 days 00:00:00.694509824            0   \n",
       "64411        0          0     1428 0 days 00:00:00.000660992          446   \n",
       "65288      621      26488      613 0 days 00:00:00.008214528            0   \n",
       "127229       0          0        1 0 days 00:00:00.020889088            0   \n",
       "\n",
       "        IP_Burst_length  IP_Burst_avg_size          label  \n",
       "110184                0                0.0      HomeBase2  \n",
       "101748                0                0.0       Argus PT  \n",
       "128013                0                0.0      HomeBase2  \n",
       "4490                  0                0.0        NoLabel  \n",
       "54142               275            1422.72  Spotlight Cam  \n",
       "131364                1              874.5      HomeBase2  \n",
       "9836                  0                0.0        NoLabel  \n",
       "64411               232            1424.89  Spotlight Cam  \n",
       "65288                 0                0.0  Spotlight Cam  \n",
       "127229                0                0.0      HomeBase2  \n",
       "\n",
       "[10 rows x 34 columns]"
      ]
     },
     "execution_count": 13,
     "metadata": {},
     "output_type": "execute_result"
    }
   ],
   "source": [
    "df.sample(10)"
   ]
  },
  {
   "cell_type": "code",
   "execution_count": 14,
   "metadata": {},
   "outputs": [
    {
     "name": "stdout",
     "output_type": "stream",
     "text": [
      "<class 'pandas.core.frame.DataFrame'>\n",
      "RangeIndex: 136196 entries, 0 to 136195\n",
      "Data columns (total 34 columns):\n",
      " #   Column             Non-Null Count   Dtype          \n",
      "---  ------             --------------   -----          \n",
      " 0   time               136196 non-null  datetime64[ns] \n",
      " 1   payload            136196 non-null  string         \n",
      " 2   IP_version         136196 non-null  string         \n",
      " 3   IP_ihl             136196 non-null  UInt8          \n",
      " 4   IP_tos             136196 non-null  UInt8          \n",
      " 5   IP_len             136196 non-null  UInt16         \n",
      " 6   IP_id              136196 non-null  UInt16         \n",
      " 7   IP_flags           136196 non-null  UInt8          \n",
      " 8   IP_frag            136196 non-null  UInt16         \n",
      " 9   IP_ttl             136196 non-null  UInt8          \n",
      " 10  IP_proto           136196 non-null  UInt8          \n",
      " 11  IP_chksum          136196 non-null  UInt16         \n",
      " 12  IP_src             136196 non-null  string         \n",
      " 13  IP_dst             136196 non-null  string         \n",
      " 14  TCP_sport          136196 non-null  string         \n",
      " 15  TCP_dport          136196 non-null  string         \n",
      " 16  TCP_seq            136196 non-null  UInt32         \n",
      " 17  TCP_ack            136196 non-null  UInt32         \n",
      " 18  TCP_dataofs        136196 non-null  UInt8          \n",
      " 19  TCP_reserved       136196 non-null  UInt8          \n",
      " 20  TCP_flags          136196 non-null  UInt8          \n",
      " 21  TCP_window         136196 non-null  UInt16         \n",
      " 22  TCP_chksum         136196 non-null  UInt16         \n",
      " 23  TCP_urgptr         136196 non-null  UInt16         \n",
      " 24  UDP_sport          136196 non-null  string         \n",
      " 25  UDP_dport          136196 non-null  string         \n",
      " 26  UDP_len            136196 non-null  UInt16         \n",
      " 27  UDP_chksum         136196 non-null  UInt16         \n",
      " 28  Raw_load           136196 non-null  UInt16         \n",
      " 29  IP_int_arr_time    136196 non-null  timedelta64[ns]\n",
      " 30  IP_Burst_ix        136196 non-null  int16          \n",
      " 31  IP_Burst_length    136196 non-null  int64          \n",
      " 32  IP_Burst_avg_size  136196 non-null  Float64        \n",
      " 33  label              136196 non-null  string         \n",
      "dtypes: Float64(1), UInt16(10), UInt32(2), UInt8(8), datetime64[ns](1), int16(1), int64(1), string(9), timedelta64[ns](1)\n",
      "memory usage: 21.2 MB\n"
     ]
    }
   ],
   "source": [
    "df.info()"
   ]
  },
  {
   "cell_type": "code",
   "execution_count": 15,
   "metadata": {},
   "outputs": [],
   "source": [
    "# training_features = [\n",
    "#     # 'time',\n",
    "#     # 'payload',\n",
    "#     # 'IP_version',\n",
    "#     # 'IP_ihl',\n",
    "#     # 'IP_tos',\n",
    "#     'IP_len',\n",
    "#     # 'IP_id',\n",
    "#     # 'IP_flags',\n",
    "#     'IP_frag',\n",
    "#     'IP_ttl',\n",
    "#     'IP_proto',\n",
    "#     'IP_chksum',\n",
    "#     # 'IP_src',\n",
    "#     # 'IP_dst',\n",
    "#     'TCP_sport',\n",
    "#     'TCP_dport',\n",
    "#     'TCP_seq',\n",
    "#     'TCP_ack',\n",
    "#     'TCP_dataofs',\n",
    "#     'TCP_reserved',\n",
    "#     # 'TCP_flags',\n",
    "#     'TCP_window',\n",
    "#     'TCP_chksum',\n",
    "#     'TCP_urgptr',\n",
    "#     'UDP_sport',\n",
    "#     'UDP_dport',\n",
    "#     'UDP_len',\n",
    "#     'UDP_chksum',\n",
    "#     'Raw_load',\n",
    "#     'IP_int_arr_time',\n",
    "#     # 'IP_Burst_ix',\n",
    "#     'IP_Burst_length',\n",
    "#     'IP_Burst_avg_size',\n",
    "#   ]\n",
    "\n",
    "training_features = [\n",
    "    'Raw_load',\n",
    "    'IP_int_arr_time',\n",
    "    'IP_Burst_length',\n",
    "    'IP_Burst_avg_size',\n",
    "  ]\n",
    "\n",
    "# training_features = [\n",
    "#     'Raw_load'\n",
    "#   ]\n",
    "\n",
    "# dimensionality of one hot would be too high for Ports, so we use their integer values\n",
    "for col in ['TCP_sport', 'TCP_dport', 'UDP_sport', 'UDP_dport']:\n",
    "  df[col] = df[col].astype(\"UInt32\")\n",
    "\n",
    "df['IP_int_arr_time'] = df['IP_int_arr_time'].dt.total_seconds() * 1000 # Convert timedelta to milliseconds\n",
    "df['IP_int_arr_time'] = df['IP_int_arr_time'].astype('Float64')"
   ]
  },
  {
   "cell_type": "code",
   "execution_count": 16,
   "metadata": {},
   "outputs": [
    {
     "name": "stdout",
     "output_type": "stream",
     "text": [
      "<class 'pandas.core.frame.DataFrame'>\n",
      "RangeIndex: 136196 entries, 0 to 136195\n",
      "Data columns (total 4 columns):\n",
      " #   Column             Non-Null Count   Dtype  \n",
      "---  ------             --------------   -----  \n",
      " 0   Raw_load           136196 non-null  UInt16 \n",
      " 1   IP_int_arr_time    136196 non-null  Float64\n",
      " 2   IP_Burst_length    136196 non-null  int64  \n",
      " 3   IP_Burst_avg_size  136196 non-null  Float64\n",
      "dtypes: Float64(2), UInt16(1), int64(1)\n",
      "memory usage: 3.8 MB\n"
     ]
    }
   ],
   "source": [
    "df[training_features].info()"
   ]
  },
  {
   "cell_type": "code",
   "execution_count": 17,
   "metadata": {},
   "outputs": [],
   "source": [
    "from sklearn.preprocessing import OneHotEncoder, LabelBinarizer\n",
    "from sklearn.model_selection import train_test_split\n",
    "\n",
    "train, test = train_test_split(df, test_size=0.4)\n",
    "\n",
    "X = train[training_features]\n",
    "X_test = test[training_features]\n",
    "\n",
    "y = train['label']\n",
    "y_test = test['label']\n",
    "\n",
    "# enc = OneHotEncoder(handle_unknown='ignore', drop='if_binary')\n",
    "# enc.fit(df[one_hot_features])\n",
    "# X = enc.transform(X)\n",
    "# X_test = enc.transform(X_test)\n",
    "\n",
    "lb = LabelBinarizer()\n",
    "lb.fit(df['label'])\n",
    "y = lb.transform(y)\n",
    "y_test = lb.transform(y_test)"
   ]
  },
  {
   "cell_type": "code",
   "execution_count": 18,
   "metadata": {},
   "outputs": [
    {
     "data": {
      "text/plain": [
       "((81717, 4), (54479, 4))"
      ]
     },
     "execution_count": 18,
     "metadata": {},
     "output_type": "execute_result"
    }
   ],
   "source": [
    "X.shape, X_test.shape"
   ]
  },
  {
   "cell_type": "markdown",
   "metadata": {},
   "source": [
    "## Classifiers"
   ]
  },
  {
   "cell_type": "code",
   "execution_count": 19,
   "metadata": {},
   "outputs": [],
   "source": [
    "from sklearn.ensemble import RandomForestClassifier\n",
    "\n",
    "forest = RandomForestClassifier(n_estimators=100)\n",
    "forest = forest.fit(X, y)"
   ]
  },
  {
   "cell_type": "code",
   "execution_count": 20,
   "metadata": {},
   "outputs": [],
   "source": [
    "from sklearn.neighbors import KNeighborsClassifier\n",
    "\n",
    "k = 5\n",
    "weights = 'uniform'\n",
    "\n",
    "neighbor = KNeighborsClassifier(n_neighbors=k, weights=weights)\n",
    "neighbor = neighbor.fit(X, y)"
   ]
  },
  {
   "cell_type": "code",
   "execution_count": 21,
   "metadata": {},
   "outputs": [],
   "source": [
    "from sklearn.svm import LinearSVC\n",
    "from sklearn.multioutput import MultiOutputClassifier\n",
    "\n",
    "# Create the SVM\n",
    "svm = LinearSVC(random_state=42)\n",
    "\n",
    "# Make it an Multilabel classifier\n",
    "machine = MultiOutputClassifier(svm, n_jobs=-1)\n",
    "\n",
    "# Fit the data to the Multilabel classifier\n",
    "machine = machine.fit(X, y)"
   ]
  },
  {
   "cell_type": "markdown",
   "metadata": {},
   "source": [
    "## Evaluation"
   ]
  },
  {
   "cell_type": "markdown",
   "metadata": {},
   "source": [
    "### Forest"
   ]
  },
  {
   "cell_type": "code",
   "execution_count": 22,
   "metadata": {},
   "outputs": [],
   "source": [
    "y_pred = forest.predict(X_test)"
   ]
  },
  {
   "cell_type": "code",
   "execution_count": 23,
   "metadata": {},
   "outputs": [
    {
     "name": "stdout",
     "output_type": "stream",
     "text": [
      "0.916279667394776 0.9155691357402406\n"
     ]
    }
   ],
   "source": [
    "from sklearn import metrics\n",
    "\n",
    "y_test = lb.inverse_transform(y_test)\n",
    "y_pred = lb.inverse_transform(y_pred)\n",
    "\n",
    "acc = metrics.accuracy_score(y_test, y_pred)\n",
    "f1_score = metrics.f1_score(y_test, y_pred, average='weighted')\n",
    "print(acc, f1_score)"
   ]
  },
  {
   "cell_type": "code",
   "execution_count": 24,
   "metadata": {},
   "outputs": [],
   "source": [
    "forest_df = pd.DataFrame(metrics.classification_report(y_test, y_pred, target_names=lb.classes_, output_dict=True))"
   ]
  },
  {
   "cell_type": "code",
   "execution_count": 25,
   "metadata": {},
   "outputs": [
    {
     "data": {
      "text/html": [
       "<div>\n",
       "<style scoped>\n",
       "    .dataframe tbody tr th:only-of-type {\n",
       "        vertical-align: middle;\n",
       "    }\n",
       "\n",
       "    .dataframe tbody tr th {\n",
       "        vertical-align: top;\n",
       "    }\n",
       "\n",
       "    .dataframe thead th {\n",
       "        text-align: right;\n",
       "    }\n",
       "</style>\n",
       "<table border=\"1\" class=\"dataframe\">\n",
       "  <thead>\n",
       "    <tr style=\"text-align: right;\">\n",
       "      <th></th>\n",
       "      <th>Argus PT</th>\n",
       "      <th>HomeBase2</th>\n",
       "      <th>NoLabel</th>\n",
       "      <th>Spotlight Cam</th>\n",
       "      <th>accuracy</th>\n",
       "      <th>macro avg</th>\n",
       "      <th>weighted avg</th>\n",
       "    </tr>\n",
       "  </thead>\n",
       "  <tbody>\n",
       "    <tr>\n",
       "      <th>precision</th>\n",
       "      <td>0.934353</td>\n",
       "      <td>0.933710</td>\n",
       "      <td>0.887762</td>\n",
       "      <td>0.907112</td>\n",
       "      <td>0.91628</td>\n",
       "      <td>0.915734</td>\n",
       "      <td>0.915607</td>\n",
       "    </tr>\n",
       "    <tr>\n",
       "      <th>recall</th>\n",
       "      <td>0.938395</td>\n",
       "      <td>0.992899</td>\n",
       "      <td>0.847627</td>\n",
       "      <td>0.887012</td>\n",
       "      <td>0.91628</td>\n",
       "      <td>0.916483</td>\n",
       "      <td>0.916280</td>\n",
       "    </tr>\n",
       "    <tr>\n",
       "      <th>f1-score</th>\n",
       "      <td>0.936370</td>\n",
       "      <td>0.962395</td>\n",
       "      <td>0.867230</td>\n",
       "      <td>0.896950</td>\n",
       "      <td>0.91628</td>\n",
       "      <td>0.915736</td>\n",
       "      <td>0.915569</td>\n",
       "    </tr>\n",
       "    <tr>\n",
       "      <th>support</th>\n",
       "      <td>13408.000000</td>\n",
       "      <td>13661.000000</td>\n",
       "      <td>13736.000000</td>\n",
       "      <td>13674.000000</td>\n",
       "      <td>0.91628</td>\n",
       "      <td>54479.000000</td>\n",
       "      <td>54479.000000</td>\n",
       "    </tr>\n",
       "  </tbody>\n",
       "</table>\n",
       "</div>"
      ],
      "text/plain": [
       "               Argus PT     HomeBase2       NoLabel  Spotlight Cam  accuracy  \\\n",
       "precision      0.934353      0.933710      0.887762       0.907112   0.91628   \n",
       "recall         0.938395      0.992899      0.847627       0.887012   0.91628   \n",
       "f1-score       0.936370      0.962395      0.867230       0.896950   0.91628   \n",
       "support    13408.000000  13661.000000  13736.000000   13674.000000   0.91628   \n",
       "\n",
       "              macro avg  weighted avg  \n",
       "precision      0.915734      0.915607  \n",
       "recall         0.916483      0.916280  \n",
       "f1-score       0.915736      0.915569  \n",
       "support    54479.000000  54479.000000  "
      ]
     },
     "execution_count": 25,
     "metadata": {},
     "output_type": "execute_result"
    }
   ],
   "source": [
    "forest_df"
   ]
  },
  {
   "cell_type": "code",
   "execution_count": 26,
   "metadata": {},
   "outputs": [
    {
     "name": "stdout",
     "output_type": "stream",
     "text": [
      "\\begin{tabular}{lSSSS}\n",
      "{} & {Argus PT} & {HomeBase2} & {NoLabel} & {Spotlight Cam} \\\\\n",
      "precision & 0.934353 & 0.933710 & 0.887762 & 0.907112 \\\\\n",
      "recall & 0.938395 & 0.992899 & 0.847627 & 0.887012 \\\\\n",
      "f1-score & 0.936370 & 0.962395 & 0.867230 & 0.896950 \\\\\n",
      "\\end{tabular}\n",
      "\n"
     ]
    }
   ],
   "source": [
    "forest_df_crop = forest_df.drop(['macro avg', 'weighted avg', 'accuracy'], axis=1)\n",
    "forest_df_crop = forest_df_crop.drop(['support'], axis=0)\n",
    "print(forest_df_crop.style.to_latex(siunitx=True))"
   ]
  },
  {
   "cell_type": "code",
   "execution_count": 27,
   "metadata": {},
   "outputs": [
    {
     "name": "stdout",
     "output_type": "stream",
     "text": [
      "Argus PT: 13408\n",
      "HomeBase2: 13661\n",
      "NoLabel: 13736\n",
      "Spotlight Cam: 13674\n"
     ]
    }
   ],
   "source": [
    "labels, counts = np.unique(y_test, return_counts=True)\n",
    "for label, count_ in zip(labels, counts):\n",
    "  print(f\"{label}: {count_}\")"
   ]
  },
  {
   "cell_type": "code",
   "execution_count": 28,
   "metadata": {},
   "outputs": [
    {
     "data": {
      "image/png": "[encoded data removed]",
      "text/plain": [
       "<Figure size 432x288 with 2 Axes>"
      ]
     },
     "metadata": {
      "needs_background": "light"
     },
     "output_type": "display_data"
    }
   ],
   "source": [
    "cm_display = metrics.ConfusionMatrixDisplay.from_predictions(y_true=y_test, y_pred=y_pred, xticks_rotation='vertical', cmap='Greens')"
   ]
  },
  {
   "cell_type": "markdown",
   "metadata": {},
   "source": [
    "#### Feature Importance"
   ]
  },
  {
   "cell_type": "code",
   "execution_count": 29,
   "metadata": {},
   "outputs": [],
   "source": [
    "# from sklearn.inspection import permutation_importance\n",
    "\n",
    "# y_test = lb.transform(y_test)\n",
    "# result = permutation_importance(\n",
    "#     forest, X_test, y_test, n_repeats=10, random_state=42, n_jobs=4\n",
    "# )"
   ]
  },
  {
   "cell_type": "code",
   "execution_count": 30,
   "metadata": {},
   "outputs": [],
   "source": [
    "# import matplotlib.pyplot as plt\n",
    "\n",
    "\n",
    "# fig, ax = plt.subplots(1, 2, figsize=(20, 6))\n",
    "\n",
    "# importances = forest.feature_importances_\n",
    "# std = np.std([tree.feature_importances_ for tree in forest.estimators_], axis=0)\n",
    "# forest_importances = pd.Series(importances, index=training_features)\n",
    "\n",
    "# forest_importances.plot.bar(yerr=std, ax=ax[0])\n",
    "# ax[0].set_title(\"Feature importances using MDI\")\n",
    "# ax[0].set_ylabel(\"Mean decrease in impurity\")\n",
    "\n",
    "# forest_importances = pd.Series(result.importances_mean, index=training_features)\n",
    "# forest_importances.plot.bar(yerr=result.importances_std, ax=ax[1])\n",
    "\n",
    "# ax[1].set_title(\"Feature importances using permutation on full model\")\n",
    "# ax[1].set_ylabel(\"Mean accuracy decrease\")\n",
    "\n",
    "# fig.tight_layout()\n"
   ]
  },
  {
   "cell_type": "code",
   "execution_count": 31,
   "metadata": {},
   "outputs": [],
   "source": [
    "from sklearn.inspection import permutation_importance\n",
    "\n",
    "y_test = lb.transform(y_test)\n",
    "\n",
    "importances = forest.feature_importances_\n",
    "forest_importances_MDI = pd.Series(importances, index=training_features)\n",
    "forest_importances_MDI_std = np.std([tree.feature_importances_ for tree in forest.estimators_], axis=0)\n",
    "\n",
    "importances = permutation_importance(\n",
    "    forest, X_test, y_test, n_repeats=10, random_state=42, n_jobs=4\n",
    ")\n",
    "forest_importances_permute = pd.Series(importances.importances_mean, index=training_features)\n",
    "forest_importances_permute_std = importances.importances_std"
   ]
  },
  {
   "cell_type": "code",
   "execution_count": 32,
   "metadata": {},
   "outputs": [
    {
     "data": {
      "application/vnd.plotly.v1+json": {
       "config": {
        "plotlyServerURL": "https://plot.ly"
       },
       "data": [
        {
         "error_y": {
          "array": [
           0.05793214563812794,
           0.04253849347001429,
           0.0432435683275661,
           0.04315829960721665
          ],
          "type": "data",
          "visible": true
         },
         "name": "Feature importances using MDI",
         "type": "bar",
         "x": [
          "Raw_load",
          "IP_int_arr_time",
          "IP_Burst_length",
          "IP_Burst_avg_size"
         ],
         "xaxis": "x",
         "y": [
          0.4087814508821543,
          0.37288651707803566,
          0.11564165451990881,
          0.10269037751990123
         ],
         "yaxis": "y"
        },
        {
         "error_y": {
          "array": [
           0.0017695967403529881,
           0.001383061245570284,
           0.0008850434765045527,
           0.0010242824150352185
          ],
          "type": "data",
          "visible": true
         },
         "name": "Feature importances using permutation",
         "type": "bar",
         "x": [
          "Raw_load",
          "IP_int_arr_time",
          "IP_Burst_length",
          "IP_Burst_avg_size"
         ],
         "xaxis": "x2",
         "y": [
          0.5296003964830484,
          0.23482626333082468,
          0.17584206758567517,
          0.22572918005102877
         ],
         "yaxis": "y2"
        }
       ],
       "layout": {
        "height": 600,
        "legend": {
         "orientation": "h",
         "x": 0,
         "xanchor": "left",
         "y": 1.02,
         "yanchor": "bottom"
        },
        "margin": {
         "b": 10,
         "t": 10
        },
        "template": {
         "data": {
          "bar": [
           {
            "error_x": {
             "color": "#2a3f5f"
            },
            "error_y": {
             "color": "#2a3f5f"
            },
            "marker": {
             "line": {
              "color": "#E5ECF6",
              "width": 0.5
             },
             "pattern": {
              "fillmode": "overlay",
              "size": 10,
              "solidity": 0.2
             }
            },
            "type": "bar"
           }
          ],
          "barpolar": [
           {
            "marker": {
             "line": {
              "color": "#E5ECF6",
              "width": 0.5
             },
             "pattern": {
              "fillmode": "overlay",
              "size": 10,
              "solidity": 0.2
             }
            },
            "type": "barpolar"
           }
          ],
          "carpet": [
           {
            "aaxis": {
             "endlinecolor": "#2a3f5f",
             "gridcolor": "white",
             "linecolor": "white",
             "minorgridcolor": "white",
             "startlinecolor": "#2a3f5f"
            },
            "baxis": {
             "endlinecolor": "#2a3f5f",
             "gridcolor": "white",
             "linecolor": "white",
             "minorgridcolor": "white",
             "startlinecolor": "#2a3f5f"
            },
            "type": "carpet"
           }
          ],
          "choropleth": [
           {
            "colorbar": {
             "outlinewidth": 0,
             "ticks": ""
            },
            "type": "choropleth"
           }
          ],
          "contour": [
           {
            "colorbar": {
             "outlinewidth": 0,
             "ticks": ""
            },
            "colorscale": [
             [
              0,
              "#0d0887"
             ],
             [
              0.1111111111111111,
              "#46039f"
             ],
             [
              0.2222222222222222,
              "#7201a8"
             ],
             [
              0.3333333333333333,
              "#9c179e"
             ],
             [
              0.4444444444444444,
              "#bd3786"
             ],
             [
              0.5555555555555556,
              "#d8576b"
             ],
             [
              0.6666666666666666,
              "#ed7953"
             ],
             [
              0.7777777777777778,
              "#fb9f3a"
             ],
             [
              0.8888888888888888,
              "#fdca26"
             ],
             [
              1,
              "#f0f921"
             ]
            ],
            "type": "contour"
           }
          ],
          "contourcarpet": [
           {
            "colorbar": {
             "outlinewidth": 0,
             "ticks": ""
            },
            "type": "contourcarpet"
           }
          ],
          "heatmap": [
           {
            "colorbar": {
             "outlinewidth": 0,
             "ticks": ""
            },
            "colorscale": [
             [
              0,
              "#0d0887"
             ],
             [
              0.1111111111111111,
              "#46039f"
             ],
             [
              0.2222222222222222,
              "#7201a8"
             ],
             [
              0.3333333333333333,
              "#9c179e"
             ],
             [
              0.4444444444444444,
              "#bd3786"
             ],
             [
              0.5555555555555556,
              "#d8576b"
             ],
             [
              0.6666666666666666,
              "#ed7953"
             ],
             [
              0.7777777777777778,
              "#fb9f3a"
             ],
             [
              0.8888888888888888,
              "#fdca26"
             ],
             [
              1,
              "#f0f921"
             ]
            ],
            "type": "heatmap"
           }
          ],
          "heatmapgl": [
           {
            "colorbar": {
             "outlinewidth": 0,
             "ticks": ""
            },
            "colorscale": [
             [
              0,
              "#0d0887"
             ],
             [
              0.1111111111111111,
              "#46039f"
             ],
             [
              0.2222222222222222,
              "#7201a8"
             ],
             [
              0.3333333333333333,
              "#9c179e"
             ],
             [
              0.4444444444444444,
              "#bd3786"
             ],
             [
              0.5555555555555556,
              "#d8576b"
             ],
             [
              0.6666666666666666,
              "#ed7953"
             ],
             [
              0.7777777777777778,
              "#fb9f3a"
             ],
             [
              0.8888888888888888,
              "#fdca26"
             ],
             [
              1,
              "#f0f921"
             ]
            ],
            "type": "heatmapgl"
           }
          ],
          "histogram": [
           {
            "marker": {
             "pattern": {
              "fillmode": "overlay",
              "size": 10,
              "solidity": 0.2
             }
            },
            "type": "histogram"
           }
          ],
          "histogram2d": [
           {
            "colorbar": {
             "outlinewidth": 0,
             "ticks": ""
            },
            "colorscale": [
             [
              0,
              "#0d0887"
             ],
             [
              0.1111111111111111,
              "#46039f"
             ],
             [
              0.2222222222222222,
              "#7201a8"
             ],
             [
              0.3333333333333333,
              "#9c179e"
             ],
             [
              0.4444444444444444,
              "#bd3786"
             ],
             [
              0.5555555555555556,
              "#d8576b"
             ],
             [
              0.6666666666666666,
              "#ed7953"
             ],
             [
              0.7777777777777778,
              "#fb9f3a"
             ],
             [
              0.8888888888888888,
              "#fdca26"
             ],
             [
              1,
              "#f0f921"
             ]
            ],
            "type": "histogram2d"
           }
          ],
          "histogram2dcontour": [
           {
            "colorbar": {
             "outlinewidth": 0,
             "ticks": ""
            },
            "colorscale": [
             [
              0,
              "#0d0887"
             ],
             [
              0.1111111111111111,
              "#46039f"
             ],
             [
              0.2222222222222222,
              "#7201a8"
             ],
             [
              0.3333333333333333,
              "#9c179e"
             ],
             [
              0.4444444444444444,
              "#bd3786"
             ],
             [
              0.5555555555555556,
              "#d8576b"
             ],
             [
              0.6666666666666666,
              "#ed7953"
             ],
             [
              0.7777777777777778,
              "#fb9f3a"
             ],
             [
              0.8888888888888888,
              "#fdca26"
             ],
             [
              1,
              "#f0f921"
             ]
            ],
            "type": "histogram2dcontour"
           }
          ],
          "mesh3d": [
           {
            "colorbar": {
             "outlinewidth": 0,
             "ticks": ""
            },
            "type": "mesh3d"
           }
          ],
          "parcoords": [
           {
            "line": {
             "colorbar": {
              "outlinewidth": 0,
              "ticks": ""
             }
            },
            "type": "parcoords"
           }
          ],
          "pie": [
           {
            "automargin": true,
            "type": "pie"
           }
          ],
          "scatter": [
           {
            "marker": {
             "colorbar": {
              "outlinewidth": 0,
              "ticks": ""
             }
            },
            "type": "scatter"
           }
          ],
          "scatter3d": [
           {
            "line": {
             "colorbar": {
              "outlinewidth": 0,
              "ticks": ""
             }
            },
            "marker": {
             "colorbar": {
              "outlinewidth": 0,
              "ticks": ""
             }
            },
            "type": "scatter3d"
           }
          ],
          "scattercarpet": [
           {
            "marker": {
             "colorbar": {
              "outlinewidth": 0,
              "ticks": ""
             }
            },
            "type": "scattercarpet"
           }
          ],
          "scattergeo": [
           {
            "marker": {
             "colorbar": {
              "outlinewidth": 0,
              "ticks": ""
             }
            },
            "type": "scattergeo"
           }
          ],
          "scattergl": [
           {
            "marker": {
             "colorbar": {
              "outlinewidth": 0,
              "ticks": ""
             }
            },
            "type": "scattergl"
           }
          ],
          "scattermapbox": [
           {
            "marker": {
             "colorbar": {
              "outlinewidth": 0,
              "ticks": ""
             }
            },
            "type": "scattermapbox"
           }
          ],
          "scatterpolar": [
           {
            "marker": {
             "colorbar": {
              "outlinewidth": 0,
              "ticks": ""
             }
            },
            "type": "scatterpolar"
           }
          ],
          "scatterpolargl": [
           {
            "marker": {
             "colorbar": {
              "outlinewidth": 0,
              "ticks": ""
             }
            },
            "type": "scatterpolargl"
           }
          ],
          "scatterternary": [
           {
            "marker": {
             "colorbar": {
              "outlinewidth": 0,
              "ticks": ""
             }
            },
            "type": "scatterternary"
           }
          ],
          "surface": [
           {
            "colorbar": {
             "outlinewidth": 0,
             "ticks": ""
            },
            "colorscale": [
             [
              0,
              "#0d0887"
             ],
             [
              0.1111111111111111,
              "#46039f"
             ],
             [
              0.2222222222222222,
              "#7201a8"
             ],
             [
              0.3333333333333333,
              "#9c179e"
             ],
             [
              0.4444444444444444,
              "#bd3786"
             ],
             [
              0.5555555555555556,
              "#d8576b"
             ],
             [
              0.6666666666666666,
              "#ed7953"
             ],
             [
              0.7777777777777778,
              "#fb9f3a"
             ],
             [
              0.8888888888888888,
              "#fdca26"
             ],
             [
              1,
              "#f0f921"
             ]
            ],
            "type": "surface"
           }
          ],
          "table": [
           {
            "cells": {
             "fill": {
              "color": "#EBF0F8"
             },
             "line": {
              "color": "white"
             }
            },
            "header": {
             "fill": {
              "color": "#C8D4E3"
             },
             "line": {
              "color": "white"
             }
            },
            "type": "table"
           }
          ]
         },
         "layout": {
          "annotationdefaults": {
           "arrowcolor": "#2a3f5f",
           "arrowhead": 0,
           "arrowwidth": 1
          },
          "autotypenumbers": "strict",
          "coloraxis": {
           "colorbar": {
            "outlinewidth": 0,
            "ticks": ""
           }
          },
          "colorscale": {
           "diverging": [
            [
             0,
             "#8e0152"
            ],
            [
             0.1,
             "#c51b7d"
            ],
            [
             0.2,
             "#de77ae"
            ],
            [
             0.3,
             "#f1b6da"
            ],
            [
             0.4,
             "#fde0ef"
            ],
            [
             0.5,
             "#f7f7f7"
            ],
            [
             0.6,
             "#e6f5d0"
            ],
            [
             0.7,
             "#b8e186"
            ],
            [
             0.8,
             "#7fbc41"
            ],
            [
             0.9,
             "#4d9221"
            ],
            [
             1,
             "#276419"
            ]
           ],
           "sequential": [
            [
             0,
             "#0d0887"
            ],
            [
             0.1111111111111111,
             "#46039f"
            ],
            [
             0.2222222222222222,
             "#7201a8"
            ],
            [
             0.3333333333333333,
             "#9c179e"
            ],
            [
             0.4444444444444444,
             "#bd3786"
            ],
            [
             0.5555555555555556,
             "#d8576b"
            ],
            [
             0.6666666666666666,
             "#ed7953"
            ],
            [
             0.7777777777777778,
             "#fb9f3a"
            ],
            [
             0.8888888888888888,
             "#fdca26"
            ],
            [
             1,
             "#f0f921"
            ]
           ],
           "sequentialminus": [
            [
             0,
             "#0d0887"
            ],
            [
             0.1111111111111111,
             "#46039f"
            ],
            [
             0.2222222222222222,
             "#7201a8"
            ],
            [
             0.3333333333333333,
             "#9c179e"
            ],
            [
             0.4444444444444444,
             "#bd3786"
            ],
            [
             0.5555555555555556,
             "#d8576b"
            ],
            [
             0.6666666666666666,
             "#ed7953"
            ],
            [
             0.7777777777777778,
             "#fb9f3a"
            ],
            [
             0.8888888888888888,
             "#fdca26"
            ],
            [
             1,
             "#f0f921"
            ]
           ]
          },
          "colorway": [
           "#636efa",
           "#EF553B",
           "#00cc96",
           "#ab63fa",
           "#FFA15A",
           "#19d3f3",
           "#FF6692",
           "#B6E880",
           "#FF97FF",
           "#FECB52"
          ],
          "font": {
           "color": "#2a3f5f"
          },
          "geo": {
           "bgcolor": "white",
           "lakecolor": "white",
           "landcolor": "#E5ECF6",
           "showlakes": true,
           "showland": true,
           "subunitcolor": "white"
          },
          "hoverlabel": {
           "align": "left"
          },
          "hovermode": "closest",
          "mapbox": {
           "style": "light"
          },
          "paper_bgcolor": "white",
          "plot_bgcolor": "#E5ECF6",
          "polar": {
           "angularaxis": {
            "gridcolor": "white",
            "linecolor": "white",
            "ticks": ""
           },
           "bgcolor": "#E5ECF6",
           "radialaxis": {
            "gridcolor": "white",
            "linecolor": "white",
            "ticks": ""
           }
          },
          "scene": {
           "xaxis": {
            "backgroundcolor": "#E5ECF6",
            "gridcolor": "white",
            "gridwidth": 2,
            "linecolor": "white",
            "showbackground": true,
            "ticks": "",
            "zerolinecolor": "white"
           },
           "yaxis": {
            "backgroundcolor": "#E5ECF6",
            "gridcolor": "white",
            "gridwidth": 2,
            "linecolor": "white",
            "showbackground": true,
            "ticks": "",
            "zerolinecolor": "white"
           },
           "zaxis": {
            "backgroundcolor": "#E5ECF6",
            "gridcolor": "white",
            "gridwidth": 2,
            "linecolor": "white",
            "showbackground": true,
            "ticks": "",
            "zerolinecolor": "white"
           }
          },
          "shapedefaults": {
           "line": {
            "color": "#2a3f5f"
           }
          },
          "ternary": {
           "aaxis": {
            "gridcolor": "white",
            "linecolor": "white",
            "ticks": ""
           },
           "baxis": {
            "gridcolor": "white",
            "linecolor": "white",
            "ticks": ""
           },
           "bgcolor": "#E5ECF6",
           "caxis": {
            "gridcolor": "white",
            "linecolor": "white",
            "ticks": ""
           }
          },
          "title": {
           "x": 0.05
          },
          "xaxis": {
           "automargin": true,
           "gridcolor": "white",
           "linecolor": "white",
           "ticks": "",
           "title": {
            "standoff": 15
           },
           "zerolinecolor": "white",
           "zerolinewidth": 2
          },
          "yaxis": {
           "automargin": true,
           "gridcolor": "white",
           "linecolor": "white",
           "ticks": "",
           "title": {
            "standoff": 15
           },
           "zerolinecolor": "white",
           "zerolinewidth": 2
          }
         }
        },
        "width": 900,
        "xaxis": {
         "anchor": "y",
         "domain": [
          0,
          1
         ]
        },
        "xaxis2": {
         "anchor": "y2",
         "domain": [
          0,
          1
         ]
        },
        "yaxis": {
         "anchor": "x",
         "domain": [
          0.575,
          1
         ],
         "title": {
          "text": "Mean decrease in impurity"
         }
        },
        "yaxis2": {
         "anchor": "x2",
         "domain": [
          0,
          0.425
         ],
         "title": {
          "text": "Mean decrease in accuracy"
         }
        }
       }
      }
     },
     "metadata": {},
     "output_type": "display_data"
    }
   ],
   "source": [
    "\n",
    "fig = make_subplots(rows=2, cols=1)\n",
    "\n",
    "trace1 = fig.add_trace(\n",
    "    go.Bar(\n",
    "      x=training_features,\n",
    "      y=forest_importances_MDI,\n",
    "      error_y=dict(\n",
    "            type='data', # value of error bar given in data coordinates\n",
    "            array=forest_importances_MDI_std,\n",
    "            visible=True\n",
    "            ),\n",
    "      name=\"Feature importances using MDI\",\n",
    "      # text=forest_importances_MDI\n",
    "      ),\n",
    "    row=1, col=1\n",
    ")\n",
    "\n",
    "trace2 = fig.add_trace(\n",
    "    go.Bar(\n",
    "      x=training_features,\n",
    "      y=forest_importances_permute,\n",
    "      error_y=dict(\n",
    "            type='data', # value of error bar given in data coordinates\n",
    "            array=forest_importances_permute_std,\n",
    "            visible=True\n",
    "            ),\n",
    "      name=\"Feature importances using permutation\",\n",
    "      # text=forest_importances_permute\n",
    "      ),\n",
    "    row=2, col=1\n",
    ")\n",
    "\n",
    "fig.update_layout(\n",
    "  height=600, \n",
    "  width=900, \n",
    ")\n",
    "fig.update_layout(\n",
    "  legend=dict(\n",
    "    orientation=\"h\",\n",
    "    yanchor=\"bottom\",\n",
    "    y=1.02,\n",
    "    xanchor=\"left\",\n",
    "    x=0\n",
    "    )\n",
    "  )\n",
    "\n",
    "fig.update_yaxes(title=\"Mean decrease in impurity\", row=1, col=1)\n",
    "fig.update_yaxes(title=\"Mean decrease in accuracy\", row=2, col=1)\n",
    "fig.update_layout(margin=dict(t=10, b=10))\n",
    "fig.write_image(\"assets/feat_importances.pdf\")\n",
    "fig.show()"
   ]
  },
  {
   "cell_type": "code",
   "execution_count": 33,
   "metadata": {},
   "outputs": [],
   "source": [
    "\n",
    "# fig = make_subplots(rows=1, cols=1)\n",
    "\n",
    "# trace2 = fig.add_trace(\n",
    "#     go.Bar(\n",
    "#       x=training_features,\n",
    "#       y=forest_importances_permute,\n",
    "#       error_y=dict(\n",
    "#             type='data', # value of error bar given in data coordinates\n",
    "#             array=forest_importances_permute_std,\n",
    "#             visible=True\n",
    "#             ),\n",
    "#       name=\"Feature importances using permutation\",\n",
    "#       # text=forest_importances_permute\n",
    "#       ),\n",
    "#     row=1, col=1\n",
    "# )\n",
    "\n",
    "# fig.update_layout(\n",
    "#   height=400, \n",
    "#   width=600, \n",
    "# )\n",
    "# fig.update_layout(\n",
    "#   legend=dict(\n",
    "#     orientation=\"h\",\n",
    "#     yanchor=\"bottom\",\n",
    "#     y=1.02,\n",
    "#     xanchor=\"left\",\n",
    "#     x=0\n",
    "#     )\n",
    "#   )\n",
    "\n",
    "# fig.update_yaxes(title=\"Mean decrease in accuracy\", row=1, col=1)\n",
    "# fig.update_layout(margin=dict(t=10, b=10))\n",
    "# fig.write_image(\"assets/feat_importances_2.pdf\")\n",
    "# fig.show()"
   ]
  },
  {
   "cell_type": "markdown",
   "metadata": {},
   "source": [
    "#### Optimization"
   ]
  },
  {
   "cell_type": "code",
   "execution_count": 34,
   "metadata": {},
   "outputs": [
    {
     "name": "stdout",
     "output_type": "stream",
     "text": [
      "{'n_estimators': [100, 200, 300, 400, 500, 600, 700, 800, 900, 1000, 1100, 1200, 1300, 1400, 1500, 1600, 1700, 1800, 1900, 2000], 'criterion': ['gini', 'entropy'], 'max_depth': [10, 20, 30, 40, 50, 60, 70, 80, 90, 100, 110, None], 'min_samples_split': [2, 5, 10], 'min_samples_leaf': [1, 2, 4], 'max_features': ['auto', 'sqrt', 'log2'], 'bootstrap': [True, False]}\n"
     ]
    }
   ],
   "source": [
    "# Number of trees in random forest\n",
    "n_estimators = [int(x) for x in np.linspace(start = 100, stop = 2000, num = 20)]\n",
    "# Number of features to consider at every split\n",
    "max_features = ['auto', 'sqrt', 'log2']\n",
    "# Maximum number of levels in tree\n",
    "max_depth = [int(x) for x in np.linspace(10, 110, num = 11)]\n",
    "max_depth.append(None)\n",
    "# Minimum number of samples required to split a node\n",
    "min_samples_split = [2, 5, 10]\n",
    "# Minimum number of samples required at each leaf node\n",
    "min_samples_leaf = [1, 2, 4]\n",
    "# Method of selecting samples for training each tree\n",
    "bootstrap = [True, False]\n",
    "# Criterion for measuring the quality of a split\n",
    "criterion = ['gini', 'entropy']\n",
    "# Create the random grid\n",
    "random_grid = {'n_estimators': n_estimators,\n",
    "               'criterion': criterion,\n",
    "               'max_depth': max_depth,\n",
    "               'min_samples_split': min_samples_split,\n",
    "               'min_samples_leaf': min_samples_leaf,\n",
    "               'max_features': max_features,\n",
    "               'bootstrap': bootstrap}\n",
    "print(random_grid)"
   ]
  },
  {
   "cell_type": "code",
   "execution_count": 35,
   "metadata": {},
   "outputs": [],
   "source": [
    "from sklearn.model_selection import RandomizedSearchCV\n",
    "from pathlib import Path\n",
    "\n",
    "best_forest_path = Path(\"rf_classifier.joblib\")\n",
    "\n",
    "if not best_forest_path.is_file():\n",
    "  rf_random = RandomizedSearchCV(estimator = forest, param_distributions = random_grid, n_iter = 100, cv = 3, verbose=2, random_state=42, n_jobs = -1)\n",
    "  rf_random.fit(X, y)"
   ]
  },
  {
   "cell_type": "code",
   "execution_count": 36,
   "metadata": {},
   "outputs": [],
   "source": [
    "from joblib import dump, load\n",
    "\n",
    "try:\n",
    "  dump(rf_random.best_estimator_, best_forest_path)\n",
    "except NameError:\n",
    "  best_forest = load(best_forest_path)"
   ]
  },
  {
   "cell_type": "code",
   "execution_count": 47,
   "metadata": {},
   "outputs": [
    {
     "name": "stdout",
     "output_type": "stream",
     "text": [
      "118.9982823 ms ± 20.02984691 ms per loop (mean ± std. dev. of 20 runs, 20 loops each)\n"
     ]
    }
   ],
   "source": [
    "best_forest_time = %timeit -o -p 10 -r 20 -n 20 y_pred = best_forest.predict(X_test.sample(1))"
   ]
  },
  {
   "cell_type": "code",
   "execution_count": 50,
   "metadata": {},
   "outputs": [
    {
     "data": {
      "text/plain": [
       "0.11899828225000193"
      ]
     },
     "execution_count": 50,
     "metadata": {},
     "output_type": "execute_result"
    }
   ],
   "source": [
    "best_forest_time.average"
   ]
  },
  {
   "cell_type": "code",
   "execution_count": 37,
   "metadata": {},
   "outputs": [
    {
     "name": "stdout",
     "output_type": "stream",
     "text": [
      "               Argus PT     HomeBase2       NoLabel  Spotlight Cam  accuracy  \\\n",
      "precision      0.934353      0.933710      0.887762       0.907112   0.91628   \n",
      "recall         0.938395      0.992899      0.847627       0.887012   0.91628   \n",
      "f1-score       0.936370      0.962395      0.867230       0.896950   0.91628   \n",
      "support    13408.000000  13661.000000  13736.000000   13674.000000   0.91628   \n",
      "\n",
      "              macro avg  weighted avg  \n",
      "precision      0.915734      0.915607  \n",
      "recall         0.916483      0.916280  \n",
      "f1-score       0.915736      0.915569  \n",
      "support    54479.000000  54479.000000  \n",
      "               Argus PT     HomeBase2       NoLabel  Spotlight Cam  accuracy  \\\n",
      "precision      0.942678      0.941756      0.908521       0.919925  0.928743   \n",
      "recall         0.966513      0.994217      0.853888       0.901492  0.928743   \n",
      "f1-score       0.954447      0.967276      0.880357       0.910615  0.928743   \n",
      "support    13408.000000  13661.000000  13736.000000   13674.000000  0.928743   \n",
      "\n",
      "              macro avg  weighted avg  \n",
      "precision      0.928220      0.928124  \n",
      "recall         0.929027      0.928743  \n",
      "f1-score       0.928174      0.927982  \n",
      "support    54479.000000  54479.000000  \n"
     ]
    }
   ],
   "source": [
    "print(forest_df)\n",
    "\n",
    "\n",
    "y_pred = best_forest.predict(X_test)\n",
    "\n",
    "try:\n",
    "  y_test = lb.inverse_transform(y_test)\n",
    "except np.AxisError:\n",
    "  print(\"y_test already in original form.\")\n",
    "\n",
    "try:\n",
    "  y_pred = lb.inverse_transform(y_pred)\n",
    "except np.AxisError:\n",
    "  print(\"y_pred already in original form.\")\n",
    "\n",
    "acc = metrics.accuracy_score(y_test, y_pred)\n",
    "f1_score = metrics.f1_score(y_test, y_pred, average='weighted')\n",
    "\n",
    "best_forest_df = pd.DataFrame(metrics.classification_report(y_test, y_pred, target_names=lb.classes_, output_dict=True))\n",
    "print(best_forest_df)"
   ]
  },
  {
   "cell_type": "code",
   "execution_count": 38,
   "metadata": {},
   "outputs": [
    {
     "name": "stdout",
     "output_type": "stream",
     "text": [
      "\\begin{tabular}{lSSSSSSS}\n",
      "{} & {Argus PT} & {HomeBase2} & {NoLabel} & {Spotlight Cam} & {accuracy} & {macro avg} & {weighted avg} \\\\\n",
      "precision & 0.942678 & 0.941756 & 0.908521 & 0.919925 & 0.928743 & 0.928220 & 0.928124 \\\\\n",
      "recall & 0.966513 & 0.994217 & 0.853888 & 0.901492 & 0.928743 & 0.929027 & 0.928743 \\\\\n",
      "f1-score & 0.954447 & 0.967276 & 0.880357 & 0.910615 & 0.928743 & 0.928174 & 0.927982 \\\\\n",
      "support & 13408.000000 & 13661.000000 & 13736.000000 & 13674.000000 & 0.928743 & 54479.000000 & 54479.000000 \\\\\n",
      "\\end{tabular}\n",
      "\n"
     ]
    }
   ],
   "source": [
    "print(best_forest_df.style.to_latex(siunitx=True))"
   ]
  },
  {
   "cell_type": "code",
   "execution_count": 39,
   "metadata": {},
   "outputs": [
    {
     "ename": "NameError",
     "evalue": "name 'rf_random' is not defined",
     "output_type": "error",
     "traceback": [
      "\u001b[1;31m---------------------------------------------------------------------------\u001b[0m",
      "\u001b[1;31mNameError\u001b[0m                                 Traceback (most recent call last)",
      "\u001b[1;32mc:\\Users\\tobia\\Documents\\GitHub\\SHD-Identification\\training.ipynb Cell 45'\u001b[0m in \u001b[0;36m<module>\u001b[1;34m\u001b[0m\n\u001b[0;32m      <a href='vscode-notebook-cell:/c%3A/Users/tobia/Documents/GitHub/SHD-Identification/training.ipynb#ch0000044?line=0'>1</a>\u001b[0m \u001b[39mfrom\u001b[39;00m \u001b[39msklearn\u001b[39;00m \u001b[39mimport\u001b[39;00m tree\n\u001b[0;32m      <a href='vscode-notebook-cell:/c%3A/Users/tobia/Documents/GitHub/SHD-Identification/training.ipynb#ch0000044?line=1'>2</a>\u001b[0m \u001b[39mimport\u001b[39;00m \u001b[39mos\u001b[39;00m\n\u001b[0;32m      <a href='vscode-notebook-cell:/c%3A/Users/tobia/Documents/GitHub/SHD-Identification/training.ipynb#ch0000044?line=3'>4</a>\u001b[0m tree_ \u001b[39m=\u001b[39m tree\u001b[39m.\u001b[39mexport_graphviz(\n\u001b[1;32m----> <a href='vscode-notebook-cell:/c%3A/Users/tobia/Documents/GitHub/SHD-Identification/training.ipynb#ch0000044?line=4'>5</a>\u001b[0m   rf_random\u001b[39m.\u001b[39mbest_estimator_\u001b[39m.\u001b[39mestimators_[\u001b[39m0\u001b[39m],\n\u001b[0;32m      <a href='vscode-notebook-cell:/c%3A/Users/tobia/Documents/GitHub/SHD-Identification/training.ipynb#ch0000044?line=5'>6</a>\u001b[0m   feature_names\u001b[39m=\u001b[39mtraining_features,\n\u001b[0;32m      <a href='vscode-notebook-cell:/c%3A/Users/tobia/Documents/GitHub/SHD-Identification/training.ipynb#ch0000044?line=6'>7</a>\u001b[0m   max_depth\u001b[39m=\u001b[39m\u001b[39m3\u001b[39m,\n\u001b[0;32m      <a href='vscode-notebook-cell:/c%3A/Users/tobia/Documents/GitHub/SHD-Identification/training.ipynb#ch0000044?line=7'>8</a>\u001b[0m   filled\u001b[39m=\u001b[39m\u001b[39mTrue\u001b[39;00m,\n\u001b[0;32m      <a href='vscode-notebook-cell:/c%3A/Users/tobia/Documents/GitHub/SHD-Identification/training.ipynb#ch0000044?line=8'>9</a>\u001b[0m   rounded\u001b[39m=\u001b[39m\u001b[39mTrue\u001b[39;00m,\n\u001b[0;32m     <a href='vscode-notebook-cell:/c%3A/Users/tobia/Documents/GitHub/SHD-Identification/training.ipynb#ch0000044?line=9'>10</a>\u001b[0m   out_file\u001b[39m=\u001b[39m\u001b[39m'\u001b[39m\u001b[39massets/tree.dot\u001b[39m\u001b[39m'\u001b[39m\n\u001b[0;32m     <a href='vscode-notebook-cell:/c%3A/Users/tobia/Documents/GitHub/SHD-Identification/training.ipynb#ch0000044?line=10'>11</a>\u001b[0m   )\n\u001b[0;32m     <a href='vscode-notebook-cell:/c%3A/Users/tobia/Documents/GitHub/SHD-Identification/training.ipynb#ch0000044?line=12'>13</a>\u001b[0m os\u001b[39m.\u001b[39msystem(\u001b[39m'\u001b[39m\u001b[39mdot -Tpdf assets/tree.dot -o assets/tree.pdf\u001b[39m\u001b[39m'\u001b[39m)\n",
      "\u001b[1;31mNameError\u001b[0m: name 'rf_random' is not defined"
     ]
    }
   ],
   "source": [
    "from sklearn import tree\n",
    "import os\n",
    "\n",
    "try:\n",
    "  tree_ = tree.export_graphviz(\n",
    "    rf_random.best_estimator_.estimators_[0],\n",
    "    feature_names=training_features,\n",
    "    max_depth=3,\n",
    "    filled=True,\n",
    "    rounded=True,\n",
    "    out_file='assets/tree.dot'\n",
    "    )\n",
    "\n",
    "  os.system('dot -Tpdf assets/tree.dot -o assets/tree.pdf')\n",
    "except NameError:\n",
    "  pass"
   ]
  },
  {
   "cell_type": "markdown",
   "metadata": {},
   "source": [
    "### Neighbor"
   ]
  },
  {
   "cell_type": "code",
   "execution_count": null,
   "metadata": {},
   "outputs": [],
   "source": [
    "y_pred = neighbor.predict(X_test)"
   ]
  },
  {
   "cell_type": "code",
   "execution_count": null,
   "metadata": {},
   "outputs": [
    {
     "name": "stdout",
     "output_type": "stream",
     "text": [
      "0.8979423264009986 0.8974342862039901\n"
     ]
    }
   ],
   "source": [
    "from sklearn import metrics\n",
    "\n",
    "y_test = lb.inverse_transform(y_test)\n",
    "y_pred = lb.inverse_transform(y_pred)\n",
    "\n",
    "acc = metrics.accuracy_score(y_test, y_pred)\n",
    "f1_score = metrics.f1_score(y_test, y_pred, average='weighted')\n",
    "print(acc, f1_score)"
   ]
  },
  {
   "cell_type": "code",
   "execution_count": null,
   "metadata": {},
   "outputs": [
    {
     "data": {
      "text/html": [
       "<div>\n",
       "<style scoped>\n",
       "    .dataframe tbody tr th:only-of-type {\n",
       "        vertical-align: middle;\n",
       "    }\n",
       "\n",
       "    .dataframe tbody tr th {\n",
       "        vertical-align: top;\n",
       "    }\n",
       "\n",
       "    .dataframe thead th {\n",
       "        text-align: right;\n",
       "    }\n",
       "</style>\n",
       "<table border=\"1\" class=\"dataframe\">\n",
       "  <thead>\n",
       "    <tr style=\"text-align: right;\">\n",
       "      <th></th>\n",
       "      <th>Argus PT</th>\n",
       "      <th>HomeBase2</th>\n",
       "      <th>NoLabel</th>\n",
       "      <th>Spotlight Cam</th>\n",
       "      <th>accuracy</th>\n",
       "      <th>macro avg</th>\n",
       "      <th>weighted avg</th>\n",
       "    </tr>\n",
       "  </thead>\n",
       "  <tbody>\n",
       "    <tr>\n",
       "      <th>precision</th>\n",
       "      <td>0.920330</td>\n",
       "      <td>0.853224</td>\n",
       "      <td>0.885658</td>\n",
       "      <td>0.940183</td>\n",
       "      <td>0.897942</td>\n",
       "      <td>0.899849</td>\n",
       "      <td>0.900051</td>\n",
       "    </tr>\n",
       "    <tr>\n",
       "      <th>recall</th>\n",
       "      <td>0.916215</td>\n",
       "      <td>0.975476</td>\n",
       "      <td>0.824373</td>\n",
       "      <td>0.877024</td>\n",
       "      <td>0.897942</td>\n",
       "      <td>0.898272</td>\n",
       "      <td>0.897942</td>\n",
       "    </tr>\n",
       "    <tr>\n",
       "      <th>f1-score</th>\n",
       "      <td>0.918268</td>\n",
       "      <td>0.910264</td>\n",
       "      <td>0.853917</td>\n",
       "      <td>0.907506</td>\n",
       "      <td>0.897942</td>\n",
       "      <td>0.897489</td>\n",
       "      <td>0.897434</td>\n",
       "    </tr>\n",
       "    <tr>\n",
       "      <th>support</th>\n",
       "      <td>13642.000000</td>\n",
       "      <td>13456.000000</td>\n",
       "      <td>13671.000000</td>\n",
       "      <td>13710.000000</td>\n",
       "      <td>0.897942</td>\n",
       "      <td>54479.000000</td>\n",
       "      <td>54479.000000</td>\n",
       "    </tr>\n",
       "  </tbody>\n",
       "</table>\n",
       "</div>"
      ],
      "text/plain": [
       "               Argus PT     HomeBase2       NoLabel  Spotlight Cam  accuracy  \\\n",
       "precision      0.920330      0.853224      0.885658       0.940183  0.897942   \n",
       "recall         0.916215      0.975476      0.824373       0.877024  0.897942   \n",
       "f1-score       0.918268      0.910264      0.853917       0.907506  0.897942   \n",
       "support    13642.000000  13456.000000  13671.000000   13710.000000  0.897942   \n",
       "\n",
       "              macro avg  weighted avg  \n",
       "precision      0.899849      0.900051  \n",
       "recall         0.898272      0.897942  \n",
       "f1-score       0.897489      0.897434  \n",
       "support    54479.000000  54479.000000  "
      ]
     },
     "execution_count": 36,
     "metadata": {},
     "output_type": "execute_result"
    }
   ],
   "source": [
    "neighbor_df = pd.DataFrame(metrics.classification_report(y_test, y_pred, target_names=lb.classes_, output_dict=True))\n",
    "neighbor_df"
   ]
  },
  {
   "cell_type": "code",
   "execution_count": null,
   "metadata": {},
   "outputs": [
    {
     "name": "stdout",
     "output_type": "stream",
     "text": [
      "\\begin{tabular}{lSSSS}\n",
      "{} & {Argus PT} & {HomeBase2} & {NoLabel} & {Spotlight Cam} \\\\\n",
      "precision & 0.920330 & 0.853224 & 0.885658 & 0.940183 \\\\\n",
      "recall & 0.916215 & 0.975476 & 0.824373 & 0.877024 \\\\\n",
      "f1-score & 0.918268 & 0.910264 & 0.853917 & 0.907506 \\\\\n",
      "\\end{tabular}\n",
      "\n"
     ]
    }
   ],
   "source": [
    "neighbor_df.drop(['macro avg', 'weighted avg', 'accuracy'], axis=1, inplace=True)\n",
    "neighbor_df.drop(['support'], axis=0, inplace=True)\n",
    "print(neighbor_df.style.to_latex(siunitx=True))"
   ]
  },
  {
   "cell_type": "code",
   "execution_count": null,
   "metadata": {},
   "outputs": [
    {
     "name": "stdout",
     "output_type": "stream",
     "text": [
      "Argus PT: 13642\n",
      "HomeBase2: 13456\n",
      "NoLabel: 13671\n",
      "Spotlight Cam: 13710\n"
     ]
    }
   ],
   "source": [
    "labels, counts = np.unique(y_test, return_counts=True)\n",
    "for label, count_ in zip(labels, counts):\n",
    "  print(f\"{label}: {count_}\")"
   ]
  },
  {
   "cell_type": "code",
   "execution_count": null,
   "metadata": {},
   "outputs": [
    {
     "data": {
      "image/png": "[encoded data removed]",
      "text/plain": [
       "<Figure size 432x288 with 2 Axes>"
      ]
     },
     "metadata": {
      "needs_background": "light"
     },
     "output_type": "display_data"
    }
   ],
   "source": [
    "cm_display = metrics.ConfusionMatrixDisplay.from_predictions(y_true=y_test, y_pred=y_pred, xticks_rotation='vertical', cmap='Greens')"
   ]
  },
  {
   "cell_type": "markdown",
   "metadata": {},
   "source": [
    "### Machine"
   ]
  },
  {
   "cell_type": "code",
   "execution_count": null,
   "metadata": {},
   "outputs": [],
   "source": [
    "y_pred = machine.predict(X_test)"
   ]
  },
  {
   "cell_type": "code",
   "execution_count": null,
   "metadata": {},
   "outputs": [
    {
     "name": "stdout",
     "output_type": "stream",
     "text": [
      "0.30446594100479085 0.2186136398660673\n"
     ]
    }
   ],
   "source": [
    "from sklearn import metrics\n",
    "\n",
    "# y_test = lb.inverse_transform(y_test)\n",
    "y_pred = lb.inverse_transform(y_pred)\n",
    "\n",
    "acc = metrics.accuracy_score(y_test, y_pred)\n",
    "f1_score = metrics.f1_score(y_test, y_pred, average='weighted')\n",
    "print(acc, f1_score)"
   ]
  },
  {
   "cell_type": "code",
   "execution_count": null,
   "metadata": {},
   "outputs": [
    {
     "name": "stderr",
     "output_type": "stream",
     "text": [
      "C:\\tools\\Anaconda3\\envs\\thesis\\lib\\site-packages\\sklearn\\metrics\\_classification.py:1318: UndefinedMetricWarning:\n",
      "\n",
      "Precision and F-score are ill-defined and being set to 0.0 in labels with no predicted samples. Use `zero_division` parameter to control this behavior.\n",
      "\n",
      "C:\\tools\\Anaconda3\\envs\\thesis\\lib\\site-packages\\sklearn\\metrics\\_classification.py:1318: UndefinedMetricWarning:\n",
      "\n",
      "Precision and F-score are ill-defined and being set to 0.0 in labels with no predicted samples. Use `zero_division` parameter to control this behavior.\n",
      "\n",
      "C:\\tools\\Anaconda3\\envs\\thesis\\lib\\site-packages\\sklearn\\metrics\\_classification.py:1318: UndefinedMetricWarning:\n",
      "\n",
      "Precision and F-score are ill-defined and being set to 0.0 in labels with no predicted samples. Use `zero_division` parameter to control this behavior.\n",
      "\n"
     ]
    },
    {
     "data": {
      "text/html": [
       "<div>\n",
       "<style scoped>\n",
       "    .dataframe tbody tr th:only-of-type {\n",
       "        vertical-align: middle;\n",
       "    }\n",
       "\n",
       "    .dataframe tbody tr th {\n",
       "        vertical-align: top;\n",
       "    }\n",
       "\n",
       "    .dataframe thead th {\n",
       "        text-align: right;\n",
       "    }\n",
       "</style>\n",
       "<table border=\"1\" class=\"dataframe\">\n",
       "  <thead>\n",
       "    <tr style=\"text-align: right;\">\n",
       "      <th></th>\n",
       "      <th>Argus PT</th>\n",
       "      <th>HomeBase2</th>\n",
       "      <th>NoLabel</th>\n",
       "      <th>Spotlight Cam</th>\n",
       "      <th>accuracy</th>\n",
       "      <th>macro avg</th>\n",
       "      <th>weighted avg</th>\n",
       "    </tr>\n",
       "  </thead>\n",
       "  <tbody>\n",
       "    <tr>\n",
       "      <th>precision</th>\n",
       "      <td>0.292541</td>\n",
       "      <td>0.244843</td>\n",
       "      <td>0.0</td>\n",
       "      <td>0.538406</td>\n",
       "      <td>0.304466</td>\n",
       "      <td>0.268948</td>\n",
       "      <td>0.269223</td>\n",
       "    </tr>\n",
       "    <tr>\n",
       "      <th>recall</th>\n",
       "      <td>0.910497</td>\n",
       "      <td>0.142910</td>\n",
       "      <td>0.0</td>\n",
       "      <td>0.163603</td>\n",
       "      <td>0.304466</td>\n",
       "      <td>0.304253</td>\n",
       "      <td>0.304466</td>\n",
       "    </tr>\n",
       "    <tr>\n",
       "      <th>f1-score</th>\n",
       "      <td>0.442809</td>\n",
       "      <td>0.180479</td>\n",
       "      <td>0.0</td>\n",
       "      <td>0.250951</td>\n",
       "      <td>0.304466</td>\n",
       "      <td>0.218560</td>\n",
       "      <td>0.218614</td>\n",
       "    </tr>\n",
       "    <tr>\n",
       "      <th>support</th>\n",
       "      <td>13642.000000</td>\n",
       "      <td>13456.000000</td>\n",
       "      <td>13671.0</td>\n",
       "      <td>13710.000000</td>\n",
       "      <td>0.304466</td>\n",
       "      <td>54479.000000</td>\n",
       "      <td>54479.000000</td>\n",
       "    </tr>\n",
       "  </tbody>\n",
       "</table>\n",
       "</div>"
      ],
      "text/plain": [
       "               Argus PT     HomeBase2  NoLabel  Spotlight Cam  accuracy  \\\n",
       "precision      0.292541      0.244843      0.0       0.538406  0.304466   \n",
       "recall         0.910497      0.142910      0.0       0.163603  0.304466   \n",
       "f1-score       0.442809      0.180479      0.0       0.250951  0.304466   \n",
       "support    13642.000000  13456.000000  13671.0   13710.000000  0.304466   \n",
       "\n",
       "              macro avg  weighted avg  \n",
       "precision      0.268948      0.269223  \n",
       "recall         0.304253      0.304466  \n",
       "f1-score       0.218560      0.218614  \n",
       "support    54479.000000  54479.000000  "
      ]
     },
     "execution_count": 42,
     "metadata": {},
     "output_type": "execute_result"
    }
   ],
   "source": [
    "machine_df = pd.DataFrame(metrics.classification_report(y_test, y_pred, target_names=lb.classes_, output_dict=True))\n",
    "machine_df"
   ]
  },
  {
   "cell_type": "code",
   "execution_count": null,
   "metadata": {},
   "outputs": [
    {
     "name": "stdout",
     "output_type": "stream",
     "text": [
      "\\begin{tabular}{lSSSS}\n",
      "{} & {Argus PT} & {HomeBase2} & {NoLabel} & {Spotlight Cam} \\\\\n",
      "precision & 0.292541 & 0.244843 & 0.000000 & 0.538406 \\\\\n",
      "recall & 0.910497 & 0.142910 & 0.000000 & 0.163603 \\\\\n",
      "f1-score & 0.442809 & 0.180479 & 0.000000 & 0.250951 \\\\\n",
      "\\end{tabular}\n",
      "\n"
     ]
    }
   ],
   "source": [
    "machine_df.drop(['macro avg', 'weighted avg', 'accuracy'], axis=1, inplace=True)\n",
    "machine_df.drop(['support'], axis=0, inplace=True)\n",
    "print(machine_df.style.to_latex(siunitx=True))"
   ]
  },
  {
   "cell_type": "code",
   "execution_count": null,
   "metadata": {},
   "outputs": [
    {
     "name": "stdout",
     "output_type": "stream",
     "text": [
      "Argus PT: 13642\n",
      "HomeBase2: 13456\n",
      "NoLabel: 13671\n",
      "Spotlight Cam: 13710\n"
     ]
    }
   ],
   "source": [
    "labels, counts = np.unique(y_test, return_counts=True)\n",
    "for label, count_ in zip(labels, counts):\n",
    "  print(f\"{label}: {count_}\")"
   ]
  },
  {
   "cell_type": "code",
   "execution_count": null,
   "metadata": {},
   "outputs": [
    {
     "data": {
      "image/png": "[encoded data removed]",
      "text/plain": [
       "<Figure size 432x288 with 2 Axes>"
      ]
     },
     "metadata": {
      "needs_background": "light"
     },
     "output_type": "display_data"
    }
   ],
   "source": [
    "cm_display = metrics.ConfusionMatrixDisplay.from_predictions(y_true=y_test, y_pred=y_pred, xticks_rotation='vertical', cmap='Greens')"
   ]
  }
 ],
 "metadata": {
  "interpreter": {
   "hash": "6c7d08cabbce82a9fd531115537a9aab4848f0bcec864444fe962b25475eaf1e"
  },
  "kernelspec": {
   "display_name": "Python 3.8.12 ('thesis')",
   "language": "python",
   "name": "python3"
  },
  "language_info": {
   "codemirror_mode": {
    "name": "ipython",
    "version": 3
   },
   "file_extension": ".py",
   "mimetype": "text/x-python",
   "name": "python",
   "nbconvert_exporter": "python",
   "pygments_lexer": "ipython3",
   "version": "3.8.12"
  },
  "orig_nbformat": 4
 },
 "nbformat": 4,
 "nbformat_minor": 2
}
